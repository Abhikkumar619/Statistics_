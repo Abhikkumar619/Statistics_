{
 "cells": [
  {
   "cell_type": "markdown",
   "id": "6dad20cd-e237-4484-8258-7e6c91de302b",
   "metadata": {},
   "source": [
    "Q1: What is the difference between a t-test and a z-test? Provide an example scenario where you would\n",
    "use each type of test."
   ]
  },
  {
   "cell_type": "code",
   "execution_count": null,
   "id": "8c8438d8-edd5-4a33-9b05-b555eca8472c",
   "metadata": {},
   "outputs": [],
   "source": [
    "\"\"\"\n",
    " --T test\n",
    "1.T-test refers to a type of parametric test that is applied to identidy, how the means of two sets of data iffer from one another \n",
    "  when variance is not given.\n",
    "2. it is based on student-t distribution.\n",
    "3. population variance is unknown.\n",
    "4. sample size is small.\n",
    "\n",
    "z-Test\n",
    "\n",
    "1. z-test implies a hypothesis test which ascertains if the means of two datasets are different from each\n",
    "   other when variance is given.\n",
    "2. It is based on Normal distribution.\n",
    "3. population variance is known.\n",
    "4. Sample size is large.\n",
    "\n",
    "z-test is used on population standard deviation is given and sample data is grater than 30.\n",
    "and the in the real world seniro it is very diffeculty to find the population standard deviation \n",
    "if we do not have population standard deviation than we use studnet t-test.\n",
    "\"\"\""
   ]
  },
  {
   "cell_type": "markdown",
   "id": "8cf678e0-3961-4c51-b009-e4b9ab5cc428",
   "metadata": {},
   "source": [
    "Q2: Differentiate between one-tailed and two-tailed tests."
   ]
  },
  {
   "cell_type": "code",
   "execution_count": null,
   "id": "a8ececa5-4bf7-4ddb-968a-51f6d122e20f",
   "metadata": {},
   "outputs": [],
   "source": [
    "\"\"\"\n",
    "The main difference between one-tail and two-tail test is that one-tailed tests will only have one critical region,\n",
    "where as two-tail test have two critical region.\n",
    "The confidence interval must remain a constant size, so if we are perfoming a two-tailed test as there are twice as many critical region then these critical region must be half the size. \n",
    "This means that when we read the table, wehen performing a two tailed test, we need to consider alpha/2 rather than alpha.\n"
   ]
  },
  {
   "cell_type": "markdown",
   "id": "1de9d100-9f1a-4185-b5e1-33af56e66872",
   "metadata": {},
   "source": [
    "Q3: Explain the concept of Type 1 and Type 2 errors in hypothesis testing. Provide an example scenario for\n",
    "each type of error."
   ]
  },
  {
   "cell_type": "code",
   "execution_count": null,
   "id": "556cfc1d-3b97-4c2b-a92c-8d164e9864a9",
   "metadata": {},
   "outputs": [],
   "source": [
    "\"\"\"\n",
    "In the statistic analysis there are different test are perfome to prove the hypothesis based on sample data given \n",
    "but things are get totally differt in the real world seaniro.\n",
    "some of the seaniro which are different from real world and testing.\n",
    "\n",
    "Type 1 Error: \n",
    "Ans: We reject the NULL hypothesis when in reality it is True.  This is called type 1 Error.\n",
    "\n",
    "Type 2 Error: \n",
    "Ans: We retain the null hypothesis when in reality if is false, This is type 2 error."
   ]
  },
  {
   "cell_type": "markdown",
   "id": "ba879b13-bb92-4911-8ffe-e00100f1be11",
   "metadata": {},
   "source": [
    "Q4: Explain Bayes's theorem with an example."
   ]
  },
  {
   "cell_type": "code",
   "execution_count": null,
   "id": "9194ee21-45e1-42ea-acc7-131d9f50be7f",
   "metadata": {},
   "outputs": [],
   "source": [
    "\"\"\"\n",
    "Bayes Theorem states that the conditional probability of an event, based on the occurrance of the another event, is equal\n",
    "to the likelihood of the second event given the first event multiplies by the probabuility of the first event.\n",
    "\n",
    " Suppose we have an initial belief (prior) about the probability of an event A occurring. Then we obtain new evidence (event B) related to event A.\n",
    " Bayes' theorem allows us to revise our initial belief based on this new evidence and obtain\n",
    " the updated probability (posterior probability) of event A."
   ]
  },
  {
   "cell_type": "markdown",
   "id": "34bb07a2-9b7c-493e-838c-2da82a4c0392",
   "metadata": {},
   "source": [
    "Q5: What is a confidence interval? How to calculate the confidence interval, explain with an example."
   ]
  },
  {
   "cell_type": "code",
   "execution_count": null,
   "id": "c4334494-f089-4037-9a35-0baf6c07e00c",
   "metadata": {},
   "outputs": [],
   "source": [
    "\"\"\"\n",
    "It is a range of values used to estimates the unknown population parameters is confidence interva. \n",
    "\n",
    " z-test= x +- z std/sqrt(n)."
   ]
  },
  {
   "cell_type": "markdown",
   "id": "4acab612-49a5-4da4-ba25-5e37d1e70e9f",
   "metadata": {},
   "source": [
    "Q6. Use Bayes' Theorem to calculate the probability of an event occurring given prior knowledge of the\n",
    "event's probability and new evidence. Provide a sample problem and solution."
   ]
  },
  {
   "cell_type": "code",
   "execution_count": null,
   "id": "97b93e9c-5f52-4977-b6d9-2d6b875e9102",
   "metadata": {},
   "outputs": [],
   "source": [
    "\"\"\"\n",
    "Suppose a certain medical test for a rare disease is known to have a false positive rate of 5% (meaning it incorrectly indicates the presence of the disease in 5% of healthy individuals) and a false negative rate of 2% (meaning it fails to detect the disease in 2% of individuals who actually have it). It is estimated that the disease occurs in 1 out of every 1000 individuals in the population. If a person tests positive for the disease, what is the probability that they actually have it?\n",
    "\n",
    "Solution:\n",
    "Let's define the events:\n",
    "A = The person has the disease.\n",
    "B = The person tests positive.\n",
    "\n",
    "We are looking to calculate P(A|B), the probability that the person has the disease given a positive test result.\n",
    "\n",
    "Using Bayes' theorem, we have:\n",
    "\n",
    "P(A|B) = (P(B|A) * P(A)) / P(B)\n",
    "\n",
    "P(B|A) is the probability of testing positive given that the person has the disease. In this case, it is the complement of the false negative rate, which is 1 - 0.02 = 0.98.\n",
    "\n",
    "P(A) is the prior probability of having the disease, which is 1 out of every 1000 individuals, or 0.001.\n",
    "\n",
    "P(B) is the overall probability of testing positive. To calculate this, we need to consider both true positives and false positives:\n",
    "P(B) = P(B|A) * P(A) + P(B|¬A) * P(¬A)\n",
    "P(B|¬A) is the probability of testing positive given that the person does not have the disease, which is the false positive rate, or 0.05.\n",
    "P(¬A) is the complement of having the disease, which is 1 - P(A), or 1 - 0.001 = 0.999.\n",
    "\n",
    "Substituting the values into Bayes' theorem:\n",
    "\n",
    "P(A|B) = (0.98 * 0.001) / (0.98 * 0.001 + 0.05 * 0.999)\n",
    "\n",
    "Calculating this expression gives:\n",
    "\n",
    "P(A|B) ≈ 0.0196\n",
    "\n",
    "Therefore, the probability that a person actually has the disease given a positive test result is approximately 0.0196, or about 1.96%.\n",
    "\"\"\""
   ]
  },
  {
   "cell_type": "markdown",
   "id": "576a6a18-8b3d-4d88-a80b-46a7303a0bed",
   "metadata": {},
   "source": [
    "Q8. What is the margin of error in a confidence interval? How does sample size affect the margin of error?\n",
    "Provide an example of a scenario where a larger sample size would result in a smaller margin of error."
   ]
  },
  {
   "cell_type": "code",
   "execution_count": null,
   "id": "bc975b75-301e-4546-ab41-712633f4b0fc",
   "metadata": {},
   "outputs": [],
   "source": [
    "\"\"\"\n",
    "A margin error tells you how many percentage points your results will differ from the real population value.\n",
    "Ex: 95 % confidence interval with 4 percentage points means that your stati wil be within 4 percentage points of the real population value 95 %\n",
    "of the time.\n",
    "\n",
    "The sample size is directly affect the margin error as the sample size increase, the margin of error tends to decrease and vice vera.\n",
    "\n",
    "Example:\n",
    "Suppose we want to estimate the average height of students in a large university.\n",
    "We take two samples—one with a small size of 50 students and another with a larger size of 500 students.\n",
    "We construct 95% confidence intervals for both samples.\n",
    "\n",
    "In the small sample (n = 50), due to the limited number of observations, the estimate of the mean height might be more variable.\n",
    "Consequently, the margin of error will be larger, indicating a wider range within which the true population mean is likely to lie.\n",
    "\n",
    "In the large sample (n = 500), we have a much larger pool of observations\n",
    ", which provides more precise information about the population. As a result\n",
    ", the estimate of the mean height will likely be more accurate,\n",
    "leading to a smaller margin of error. The confidence interval for the large sample will be narrower, indicating a more precise estimate of the true population mean.\n",
    "\n",
    "In summary, a larger sample size generally leads to a smaller margin of error\n",
    ", as it provides a more reliable estimate of the population parameter.\n"
   ]
  },
  {
   "cell_type": "markdown",
   "id": "d991cdc3-b731-4b81-b3c9-45be6959556e",
   "metadata": {},
   "source": [
    "Q9. Calculate the z-score for a data point with a value of 75, a population mean of 70, and a population\n",
    "standard deviation of 5. Interpret the results."
   ]
  },
  {
   "cell_type": "code",
   "execution_count": null,
   "id": "b391d844-4c8f-4691-aaf6-1c618ca0ed32",
   "metadata": {},
   "outputs": [],
   "source": [
    "\"\"\"\n",
    "Data_point=75\n",
    "mean=70\n",
    "standard_deviation=5\n",
    "Z_score=?\n",
    "we have\n",
    "   z_score= data_point - mean/standard_deviaton\n",
    "          = 75-70/5\n",
    "          =5/5\n",
    "          =1.\n",
    "A z_score of 1 means that the data point is one standard deviation above the population mean. a positive z_score indicates that the data_point is above mean.\n",
    "while a negative woluld indiactes that the data point is below the mean."
   ]
  },
  {
   "cell_type": "markdown",
   "id": "f2b700da-8553-47d4-983e-6dee488b96e1",
   "metadata": {},
   "source": [
    "Q10. In a study of the effectiveness of a new weight loss drug, a sample of 50 participants lost an average\n",
    "of 6 pounds with a standard deviation of 2.5 pounds. Conduct a hypothesis test to determine if the drug is\n",
    "significantly effective at a 95% confidence level using a t-test."
   ]
  },
  {
   "cell_type": "code",
   "execution_count": null,
   "id": "ff4083d3-c2aa-48d9-9cb6-475fb1d92ec1",
   "metadata": {},
   "outputs": [],
   "source": [
    "\"\"\"\n",
    "n=50\n",
    "sample_mean= 6.\n",
    "sample_standard_deviation= 2.5\n",
    "C.I = 0.95.\n",
    "significance_value=0.05.\n",
    "\n",
    "NUll hypothesis.\n",
    "The mean weight loss with drug is not significanty different from zero.\n",
    "\n",
    "Alternative Hypothesis : \n",
    "The mean weight loss with the drug is significance differerent from zero.\n",
    "\n",
    "Degree_of_freedom=50-1\n",
    "                 =49\n",
    "\n",
    "T-value=2.0096 ( 2 tail test)\n",
    "if t-test is   2.0096  grater than +2.009575 We reject the null hypothesis.\n",
    "\n",
    "t= sample_mean - population_mean / (std/sqrt(n))\n",
    " = 16. 97\n",
    " \n",
    "since. the calculated t-value of 16.97 is grater than critical t-value of 2.009, we reject the null hypothesis and concludede that the mean weight loss with \n",
    "drug is significicanty different from zero at a 95% sonfidence level.\n",
    "we have sufficent evidence to conclude that the drug is significantly effective in promating weight loss.\n"
   ]
  },
  {
   "cell_type": "markdown",
   "id": "da4381f9-de3c-41b8-9291-937012dd1743",
   "metadata": {},
   "source": [
    "Q11. In a survey of 500 people, 65% reported being satisfied with their current job. Calculate the 95%\n",
    "confidence interval for the true proportion of people who are satisfied with their job."
   ]
  },
  {
   "cell_type": "code",
   "execution_count": null,
   "id": "68494eeb-6460-4fe7-af2a-040e5f8afa59",
   "metadata": {},
   "outputs": [],
   "source": [
    "\"\"\"\n",
    "n=500\n",
    "sample_proportion=0.65.\n",
    "C.I = 0.95.\n",
    "significence_value=0.05\n",
    "\n",
    "we_have:\n",
    "\n",
    "standard_error= sqrt(sample_proportion* (1-sampel_proportion/sample_size))\n",
    "              = sqrt(0.65* (1- 0.65/500))\n",
    "              =0.0213307\n",
    "\n",
    "Confidence_interval= sample_por +- (z*(standard_error))\n",
    "                   = 0.65 +- (0.8289* 0.0213307)\n",
    "                   = (0.65 + 0.01768)(0.65 - 0.01768)\n",
    "                   = (0.6676, 0.63232)\n",
    "    "
   ]
  },
  {
   "cell_type": "markdown",
   "id": "d2c9a1bd-199a-41e6-bb53-59da13ffcb77",
   "metadata": {},
   "source": [
    "Q12. A researcher is testing the effectiveness of two different teaching methods on student performance.\n",
    "Sample A has a mean score of 85 with a standard deviation of 6, while sample B has a mean score of 82\n",
    "with a standard deviation of 5. Conduct a hypothesis test to determine if the two teaching methods have a\n",
    "significant difference in student performance using a t-test with a significance level of 0.01."
   ]
  },
  {
   "cell_type": "code",
   "execution_count": null,
   "id": "17c7a632-93ab-4746-8b5a-64fec6c9cf78",
   "metadata": {},
   "outputs": [],
   "source": [
    "\"\"\"\n",
    "To determine if the two teaching methods have a significant difference in student performance, we can conduct a two-sample t-test. The null hypothesis is that there is no significant difference between the two teaching methods, while the alternative hypothesis is that there is a significant difference between them.\n",
    "\n",
    "Assuming unequal variances, we can use the t-test formula:\n",
    "\n",
    "t = (x̄1 - x̄2) / sqrt[(s1^2/n1) + (s2^2/n2)]\n",
    "\n",
    "where x̄1 and x̄2 are the sample means, s1 and s2 are the sample standard deviations, and n1 and n2 are the sample sizes.\n",
    "\n",
    "Using the values given in the problem, we have:\n",
    "\n",
    "x̄1 = 85\n",
    "s1 = 6\n",
    "n1 = ?\n",
    "x̄2 = 82\n",
    "s2 = 5\n",
    "n2 = ?\n",
    "\n",
    "We are not given the sample sizes, so we cannot calculate the pooled variance. Instead, we can use a conservative approach and assume that the sample sizes are equal, and use the smaller of the two sample sizes to calculate the degrees of freedom.\n",
    "\n",
    "Assuming n1 = n2 = 10, we have:\n",
    "\n",
    "t = (85 - 82) / sqrt[(6^2/10) + (5^2/10)]\n",
    "t = 3 / sqrt[3.6 + 2.5]\n",
    "t = 3 / sqrt[6.1]\n",
    "t = 3 / 2.47\n",
    "t = 1.21\n",
    "\n",
    "The critical t-value for a two-tailed test with a significance level of 0.01 and 18 degrees of freedom is ±2.878.\n",
    "\n",
    "Since our calculated t-value of 1.21 is less than the critical t-value of ±2.878, we fail to reject the null hypothesis. Therefore, we can conclude that there is not enough evidence to support the claim that the two teaching methods have a significant difference in student performance at a significance level of 0.01.\n",
    "\"\"\""
   ]
  },
  {
   "cell_type": "markdown",
   "id": "c3c319bf-6214-468d-b118-fe7159024a25",
   "metadata": {},
   "source": [
    "Q13. A population has a mean of 60 and a standard deviation of 8. A sample of 50 observations has a mean\n",
    "of 65. Calculate the 90% confidence interval for the true population mean."
   ]
  },
  {
   "cell_type": "code",
   "execution_count": null,
   "id": "5813ecaf-9220-4287-aaa2-624369f51825",
   "metadata": {},
   "outputs": [],
   "source": [
    "\"\"\"\n",
    "x̄ = 65\n",
    "σ = 8\n",
    "n = 50\n",
    "z* for a 90% confidence level is 1.645 (obtained from a standard normal distribution table or calculator).\n",
    "\n",
    "Plugging in the values, we get:\n",
    "\n",
    "CI = 65 ± 1.645 * (8 / sqrt(50))\n",
    "CI = 65 ± 1.645 * 1.13\n",
    "CI = 65 ± 1.86\n",
    "\n",
    "Therefore, the 90% confidence interval for the true population mean is (63.14, 66.86). We can say with 90% confidence that the true population mean falls within this interval.\n",
    "\"\"\""
   ]
  },
  {
   "cell_type": "markdown",
   "id": "f1960bde-ca68-478d-827c-c2a1f4ab816b",
   "metadata": {},
   "source": [
    "Q14. In a study of the effects of caffeine on reaction time, a sample of 30 participants had an average\n",
    "reaction time of 0.25 seconds with a standard deviation of 0.05 seconds. Conduct a hypothesis test to\n",
    "determine if the caffeine has a significant effect on reaction time at a 90% confidence level using a t-test."
   ]
  },
  {
   "cell_type": "code",
   "execution_count": null,
   "id": "fc36b823-7611-4238-bd87-29ceb44c973a",
   "metadata": {},
   "outputs": [],
   "source": [
    "\"\"\"\n",
    "Null hypothesis: μ = 0.25 (there is no significant difference in reaction time with or without caffeine)\n",
    "Alternative hypothesis: μ ≠ 0.25 (there is a significant difference in reaction time with or without caffeine)\n",
    "\n",
    "We can use a two-tailed t-test with a significance level of 0.10 (90% confidence level). The test statistic is calculated as:\n",
    "\n",
    "t = (x̄ - μ) / (s / sqrt(n))\n",
    "\n",
    "where x̄ is the sample mean, μ is the hypothesized population mean, s is the sample standard deviation, and n is the sample size.\n",
    "\n",
    "Plugging in the values from the problem, we get:\n",
    "\n",
    "t = (0.25 - μ) / (0.05 / sqrt(30))\n",
    "\n",
    "To calculate the critical t-value, we need to find the degrees of freedom, which is n - 1 = 29. From a t-distribution table or calculator, the critical t-value for a two-tailed test with 29 degrees of freedom and a significance level of 0.10 is ±1.699.\n",
    "\n",
    "If the calculated t-value is outside of this range, we reject the null hypothesis and conclude that there is a significant difference in reaction time with or without caffeine.\n",
    "\n",
    "Let's assume that we want to test the null hypothesis at a significance level of 0.10. We can rearrange the equation for t as follows:\n",
    "\n",
    "μ = x̄ - (t * s / sqrt(n))\n",
    "\n",
    "Plugging in the values, we get:\n",
    "\n",
    "μ = 0.25 - (1.699 * 0.05 / sqrt(30))\n",
    "μ = 0.25 - 0.017\n",
    "μ = 0.233\n",
    "\n",
    "Therefore, we reject the null hypothesis if the sample mean reaction time is significantly different from 0.233 at a 90% confidence level. If the calculated t-value falls outside the range of ±1.699, we can conclude that caffeine has a significant effect on reaction time.\n",
    "\n",
    "Note that we do not have information about the direction of the effect (whether caffeine speeds up or slows down reaction time), so the alternative hypothesis is a two-tailed hypothesis.\n",
    "\"\"\""
   ]
  },
  {
   "cell_type": "code",
   "execution_count": null,
   "id": "7307b56e-7ddd-4d7a-85af-f7c46387aadd",
   "metadata": {},
   "outputs": [],
   "source": []
  },
  {
   "cell_type": "code",
   "execution_count": null,
   "id": "24b3100d-0ee6-43a8-a71c-84af23006eec",
   "metadata": {},
   "outputs": [],
   "source": []
  }
 ],
 "metadata": {
  "kernelspec": {
   "display_name": "Python 3 (ipykernel)",
   "language": "python",
   "name": "python3"
  },
  "language_info": {
   "codemirror_mode": {
    "name": "ipython",
    "version": 3
   },
   "file_extension": ".py",
   "mimetype": "text/x-python",
   "name": "python",
   "nbconvert_exporter": "python",
   "pygments_lexer": "ipython3",
   "version": "3.10.8"
  }
 },
 "nbformat": 4,
 "nbformat_minor": 5
}
