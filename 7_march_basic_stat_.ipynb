{
 "cells": [
  {
   "cell_type": "code",
   "execution_count": null,
   "id": "5cb87c07-ddab-477c-8f4a-21e760f14563",
   "metadata": {},
   "outputs": [],
   "source": [
    "\"\"\"\n",
    "Q1. What are the three measures of central tendency?\n",
    "Ans: The three measure centrel tendency are: \n",
    "     1. Mean. \n",
    "     2. Median.\n",
    "     3. mode.\n",
    "\"\"\""
   ]
  },
  {
   "cell_type": "code",
   "execution_count": null,
   "id": "971b1a7b-b5f8-4b56-9647-077a39bbef19",
   "metadata": {},
   "outputs": [],
   "source": [
    "\"\"\"\n",
    "Q2. What is the difference between the mean, median, and mode? How are they used to measure the\n",
    "central tendency of a dataset?\n",
    "\n",
    "Ans: \n",
    "Mean: \n",
    "1. The averge number for a set of number is mean. \n",
    "2. Add all the number together and divide by number of value.\n",
    "3. Example: 2+3+6+8\n",
    "            =20/4\n",
    "            =5 \n",
    "\n",
    "\n",
    "Median: \n",
    "\n",
    "1. The middle value in the data where arrenge in order. \n",
    "2. Arrange the given number in order, take middle value.\n",
    "    if count of number == even take two value and divide by two \n",
    "    if not than middle value is final answer.\n",
    "3. Example : \n",
    "        4,2, 8, 10, 19\n",
    "        as the total number is 5 median is 8.\n",
    "\n",
    "\n",
    "Mode: \n",
    "\n",
    "1. The most frequent data in the dataset.\n",
    "2. IT shows the frequency of occurrence.\n",
    "3. Example: \n",
    "           3,3,2,5,6,3,2,2\n",
    "           The number with higest frequency is 3.\n"
   ]
  },
  {
   "cell_type": "code",
   "execution_count": 11,
   "id": "4d17a82d-7c29-48bd-8e4a-443b3c36858a",
   "metadata": {},
   "outputs": [],
   "source": [
    "\"\"\"\n",
    "Q3. Measure the three measures of central tendency for the given height data:\n",
    "[178,177,176,177,178.2,178,175,179,180,175,178.9,176.2,177,172.5,178,176.5]\n",
    "\"\"\"\n",
    "import numpy as np\n",
    "from scipy import stats as st"
   ]
  },
  {
   "cell_type": "code",
   "execution_count": 3,
   "id": "ba140057-fffd-4ec1-990d-14508eb12372",
   "metadata": {},
   "outputs": [
    {
     "data": {
      "text/plain": [
       "177.01875"
      ]
     },
     "execution_count": 3,
     "metadata": {},
     "output_type": "execute_result"
    }
   ],
   "source": [
    "num=[178,177,176,177,178.2,178,175,179,180,175,178.9,176.2,177,172.5,178,176.5]\n",
    "np.mean(num)"
   ]
  },
  {
   "cell_type": "code",
   "execution_count": 5,
   "id": "03953451-6fd6-4c83-8c2c-0f53a535f13b",
   "metadata": {},
   "outputs": [
    {
     "data": {
      "text/plain": [
       "177.0"
      ]
     },
     "execution_count": 5,
     "metadata": {},
     "output_type": "execute_result"
    }
   ],
   "source": [
    "np.median(num)"
   ]
  },
  {
   "cell_type": "code",
   "execution_count": 12,
   "id": "4a0d925f-3567-44b6-830f-369e42d745d1",
   "metadata": {},
   "outputs": [
    {
     "name": "stderr",
     "output_type": "stream",
     "text": [
      "/tmp/ipykernel_70/1594861652.py:1: FutureWarning: Unlike other reduction functions (e.g. `skew`, `kurtosis`), the default behavior of `mode` typically preserves the axis it acts along. In SciPy 1.11.0, this behavior will change: the default value of `keepdims` will become False, the `axis` over which the statistic is taken will be eliminated, and the value None will no longer be accepted. Set `keepdims` to True or False to avoid this warning.\n",
      "  st.mode(num)\n"
     ]
    },
    {
     "data": {
      "text/plain": [
       "ModeResult(mode=array([177.]), count=array([3]))"
      ]
     },
     "execution_count": 12,
     "metadata": {},
     "output_type": "execute_result"
    }
   ],
   "source": [
    "st.mode(num)"
   ]
  },
  {
   "cell_type": "code",
   "execution_count": null,
   "id": "d7da160d-68f0-4680-a707-e3bdfc290d3a",
   "metadata": {},
   "outputs": [],
   "source": [
    "\"\"\"\n",
    "Q4. Find the standard deviation for the given data:\n",
    "[178,177,176,177,178.2,178,175,179,180,175,178.9,176.2,177,172.5,178,176.5]\n",
    "\"\"\""
   ]
  },
  {
   "cell_type": "code",
   "execution_count": 13,
   "id": "1afd6564-9c99-4b26-9b91-b1b448174756",
   "metadata": {},
   "outputs": [],
   "source": [
    "num1=[178,177,176,177,178.2,178,175,179,180,175,178.9,176.2,177,172.5,178,176.5]"
   ]
  },
  {
   "cell_type": "code",
   "execution_count": 14,
   "id": "9ac3cb5c-78ff-4930-9da6-ee121128ac93",
   "metadata": {},
   "outputs": [
    {
     "data": {
      "text/plain": [
       "1.7885814036548633"
      ]
     },
     "execution_count": 14,
     "metadata": {},
     "output_type": "execute_result"
    }
   ],
   "source": [
    "np.std(num1)"
   ]
  },
  {
   "cell_type": "code",
   "execution_count": null,
   "id": "ca2a2aaf-c395-47ad-b36e-269d86575b22",
   "metadata": {},
   "outputs": [],
   "source": [
    "\"\"\"\n",
    "Q5. How are measures of dispersion such as range, variance, and standard deviation used to describe\n",
    "the spread of a dataset? Provide an example.\n",
    "\n",
    "Ans:\n",
    "Measure of dispersion are used to describes how spread out variable in dataset is measure of dispersion,\n",
    "\n",
    "The range is the difference between the higest and lowest value in the dataset.\n",
    "\n",
    "The variance is how far each number in the data set varies from the mean.\n",
    "\n",
    "The disersion of dataset relative to its mean is standard deviation. it is squre root od varience.\n",
    "the lower standerd deviation indicate that the data point are close to meanm while a high standard\n",
    "deviation indicates that the data point are more spread out.\n",
    "\n",
    "Example: \n",
    "\"\"\"\n",
    "\n"
   ]
  },
  {
   "cell_type": "code",
   "execution_count": 15,
   "id": "fb42bf32-2a5c-4745-aafb-54b0d59ad04b",
   "metadata": {},
   "outputs": [],
   "source": [
    "num3=[1,2,3,4,5,24,5,3]"
   ]
  },
  {
   "cell_type": "code",
   "execution_count": 16,
   "id": "ad537cc7-a431-43c6-a822-97395a5551af",
   "metadata": {},
   "outputs": [
    {
     "data": {
      "text/plain": [
       "48.609375"
      ]
     },
     "execution_count": 16,
     "metadata": {},
     "output_type": "execute_result"
    }
   ],
   "source": [
    "np.var(num3)"
   ]
  },
  {
   "cell_type": "code",
   "execution_count": 17,
   "id": "23190771-c6bb-4173-996e-c2fbf585d45d",
   "metadata": {},
   "outputs": [
    {
     "data": {
      "text/plain": [
       "6.9720423836921706"
      ]
     },
     "execution_count": 17,
     "metadata": {},
     "output_type": "execute_result"
    }
   ],
   "source": [
    "np.std(num3)"
   ]
  },
  {
   "cell_type": "code",
   "execution_count": null,
   "id": "e46b100d-bcdd-4ce7-ae80-76dab03d5f17",
   "metadata": {},
   "outputs": [],
   "source": [
    "\"\"\"\n",
    "Q6. What is a Venn diagram?\n",
    "\n",
    "Ans: It is the pictureal representation of relationship between two group."
   ]
  },
  {
   "cell_type": "code",
   "execution_count": null,
   "id": "5c12b1e1-82dd-46e1-8a00-049b51add580",
   "metadata": {},
   "outputs": [],
   "source": [
    "# Q7. For the two given sets A = (2,3,4,5,6,7) & B = (0,2,6,8,10). Find:"
   ]
  },
  {
   "cell_type": "code",
   "execution_count": 19,
   "id": "a4380d12-a083-490c-a516-b1e1236ddc99",
   "metadata": {},
   "outputs": [],
   "source": [
    "A = (2,3,4,5,6,7) \n",
    "B = (0,2,6,8,10)"
   ]
  },
  {
   "cell_type": "code",
   "execution_count": 20,
   "id": "ad359041-2172-4441-9964-198619395e7b",
   "metadata": {},
   "outputs": [
    {
     "data": {
      "text/plain": [
       "array([2, 6])"
      ]
     },
     "execution_count": 20,
     "metadata": {},
     "output_type": "execute_result"
    }
   ],
   "source": [
    "np.intersect1d(A,B)"
   ]
  },
  {
   "cell_type": "code",
   "execution_count": 21,
   "id": "8a902410-336a-4a13-b961-e83cf5f17261",
   "metadata": {},
   "outputs": [
    {
     "data": {
      "text/plain": [
       "array([ 0,  2,  3,  4,  5,  6,  7,  8, 10])"
      ]
     },
     "execution_count": 21,
     "metadata": {},
     "output_type": "execute_result"
    }
   ],
   "source": [
    "np.union1d(A,B)"
   ]
  },
  {
   "cell_type": "code",
   "execution_count": null,
   "id": "a90bcdfe-194b-48d5-b39c-cd5626e12816",
   "metadata": {},
   "outputs": [],
   "source": [
    "\"\"\"\n",
    "Q8. What do you understand about skewness in data?\n",
    "\n",
    "Ans: Skweness is the measure of the asymmetry of histogram.\n",
    "     Types of skewnesss are: 1. Right skewness, left skewness, zero skewness.\n",
    "\n",
    "\"\"\""
   ]
  },
  {
   "cell_type": "code",
   "execution_count": null,
   "id": "faabae08-c08a-46dd-9935-51cea425f0b3",
   "metadata": {},
   "outputs": [],
   "source": [
    "\"\"\"\n",
    "Q9. If a data is right skewed then what will be the position of median with respect to mean?\n",
    "\n",
    "Ans: IF the data is roght skewqd than the poition of medina is:\n",
    "      median < mean  and median > mode."
   ]
  },
  {
   "cell_type": "code",
   "execution_count": null,
   "id": "41b48bae-29de-4b82-8451-6e14dd960767",
   "metadata": {},
   "outputs": [],
   "source": [
    "\"\"\"\n",
    "Q10. Explain the difference between covariance and correlation. How are these measures used in\n",
    "statistical analysis?\n",
    "\n",
    "Ans:Both covariance and correlation used to detrmine the relationship between two random variable. \n",
    "\n",
    "--Covariance.\n",
    "1. Covariance is an indicator of how two random variable are dependent on each other. higher the number\n",
    "   indicate dependency. \n",
    "2. The value of covariance lies in the range of -infinity to + infinity.\n",
    "\n",
    "\n",
    "--Correlation.\n",
    "\n",
    "1. correlation indicates thow strongly two varibale are related, provided other condition are constant\n",
    "   the maximum value +1 indicate strong dependent relationship.\n",
    "2. The value of correlation in range between +1 to -1. "
   ]
  },
  {
   "cell_type": "code",
   "execution_count": 28,
   "id": "1d67d34e-7c00-4bd4-af9d-0774cda1c202",
   "metadata": {},
   "outputs": [],
   "source": [
    "import pandas as pd\n",
    "data=[[10,12,23],[23,45,56],[45,65,34]]\n",
    "df=pd.DataFrame(data, columns=['A', 'B', 'C'])"
   ]
  },
  {
   "cell_type": "code",
   "execution_count": 29,
   "id": "e1ac630a-773e-4efc-824a-e7957bee5c86",
   "metadata": {},
   "outputs": [
    {
     "data": {
      "text/html": [
       "<div>\n",
       "<style scoped>\n",
       "    .dataframe tbody tr th:only-of-type {\n",
       "        vertical-align: middle;\n",
       "    }\n",
       "\n",
       "    .dataframe tbody tr th {\n",
       "        vertical-align: top;\n",
       "    }\n",
       "\n",
       "    .dataframe thead th {\n",
       "        text-align: right;\n",
       "    }\n",
       "</style>\n",
       "<table border=\"1\" class=\"dataframe\">\n",
       "  <thead>\n",
       "    <tr style=\"text-align: right;\">\n",
       "      <th></th>\n",
       "      <th>A</th>\n",
       "      <th>B</th>\n",
       "      <th>C</th>\n",
       "    </tr>\n",
       "  </thead>\n",
       "  <tbody>\n",
       "    <tr>\n",
       "      <th>0</th>\n",
       "      <td>10</td>\n",
       "      <td>12</td>\n",
       "      <td>23</td>\n",
       "    </tr>\n",
       "    <tr>\n",
       "      <th>1</th>\n",
       "      <td>23</td>\n",
       "      <td>45</td>\n",
       "      <td>56</td>\n",
       "    </tr>\n",
       "    <tr>\n",
       "      <th>2</th>\n",
       "      <td>45</td>\n",
       "      <td>65</td>\n",
       "      <td>34</td>\n",
       "    </tr>\n",
       "  </tbody>\n",
       "</table>\n",
       "</div>"
      ],
      "text/plain": [
       "    A   B   C\n",
       "0  10  12  23\n",
       "1  23  45  56\n",
       "2  45  65  34"
      ]
     },
     "execution_count": 29,
     "metadata": {},
     "output_type": "execute_result"
    }
   ],
   "source": [
    "df"
   ]
  },
  {
   "cell_type": "code",
   "execution_count": 30,
   "id": "e1044f20-0171-4372-a844-bca2c5fcd84e",
   "metadata": {},
   "outputs": [
    {
     "data": {
      "text/html": [
       "<div>\n",
       "<style scoped>\n",
       "    .dataframe tbody tr th:only-of-type {\n",
       "        vertical-align: middle;\n",
       "    }\n",
       "\n",
       "    .dataframe tbody tr th {\n",
       "        vertical-align: top;\n",
       "    }\n",
       "\n",
       "    .dataframe thead th {\n",
       "        text-align: right;\n",
       "    }\n",
       "</style>\n",
       "<table border=\"1\" class=\"dataframe\">\n",
       "  <thead>\n",
       "    <tr style=\"text-align: right;\">\n",
       "      <th></th>\n",
       "      <th>A</th>\n",
       "      <th>B</th>\n",
       "      <th>C</th>\n",
       "    </tr>\n",
       "  </thead>\n",
       "  <tbody>\n",
       "    <tr>\n",
       "      <th>A</th>\n",
       "      <td>313.0</td>\n",
       "      <td>454.000000</td>\n",
       "      <td>55.000000</td>\n",
       "    </tr>\n",
       "    <tr>\n",
       "      <th>B</th>\n",
       "      <td>454.0</td>\n",
       "      <td>716.333333</td>\n",
       "      <td>205.333333</td>\n",
       "    </tr>\n",
       "    <tr>\n",
       "      <th>C</th>\n",
       "      <td>55.0</td>\n",
       "      <td>205.333333</td>\n",
       "      <td>282.333333</td>\n",
       "    </tr>\n",
       "  </tbody>\n",
       "</table>\n",
       "</div>"
      ],
      "text/plain": [
       "       A           B           C\n",
       "A  313.0  454.000000   55.000000\n",
       "B  454.0  716.333333  205.333333\n",
       "C   55.0  205.333333  282.333333"
      ]
     },
     "execution_count": 30,
     "metadata": {},
     "output_type": "execute_result"
    }
   ],
   "source": [
    "df.cov()"
   ]
  },
  {
   "cell_type": "code",
   "execution_count": 31,
   "id": "fe891732-3398-43c7-a5f7-5644f2c73920",
   "metadata": {},
   "outputs": [
    {
     "data": {
      "text/plain": [
       "A    313.000000\n",
       "B    716.333333\n",
       "C    282.333333\n",
       "dtype: float64"
      ]
     },
     "execution_count": 31,
     "metadata": {},
     "output_type": "execute_result"
    }
   ],
   "source": [
    "df.var()"
   ]
  },
  {
   "cell_type": "code",
   "execution_count": null,
   "id": "bad90c49-14b7-489b-a61f-d8443350b2f1",
   "metadata": {},
   "outputs": [],
   "source": [
    "\"\"\"\n",
    "Q11. What is the formula for calculating the sample mean? Provide an example calculation for a\n",
    "dataset.\n",
    "\n",
    "Ans: sample mean= sum xi/n \n",
    "Example: \n",
    "sample mean = 1,2, 34,6, 44\n",
    "sumof term= 1+2+32+6+44\n",
    "mean= 85+5=7\n",
    "\n",
    "\"\"\""
   ]
  },
  {
   "cell_type": "code",
   "execution_count": null,
   "id": "18ec2e71-2b07-4a7c-94da-9b80263d8d98",
   "metadata": {},
   "outputs": [],
   "source": [
    "# Q12. For a normal distribution data what is the relationship between its measure of central tendency?"
   ]
  },
  {
   "cell_type": "code",
   "execution_count": null,
   "id": "e5cb02ac-0a9e-4cc7-8171-3f13e5672571",
   "metadata": {},
   "outputs": [],
   "source": [
    "\"\"\"\n",
    "Q13. How is covariance different from correlation?\n",
    "\n",
    "Ans: covariance is different from correlation by covaience have limit range form - infinity to + infinity \n",
    "      where as the correlation have limit range +1 to -1.\n",
    "\"\"\""
   ]
  },
  {
   "cell_type": "code",
   "execution_count": null,
   "id": "a30c39ed-2a2f-4b3a-9448-39175f1830c7",
   "metadata": {},
   "outputs": [],
   "source": [
    "\"\"\"\n",
    "Q14. How do outliers affect measures of central tendency and dispersion? Provide an example.\n",
    "\n",
    "Ans: \n",
    "\"\"\""
   ]
  },
  {
   "cell_type": "code",
   "execution_count": 32,
   "id": "38070ecc-166e-472b-bf5e-de7705c9f1d6",
   "metadata": {},
   "outputs": [
    {
     "data": {
      "text/plain": [
       "5.0"
      ]
     },
     "execution_count": 32,
     "metadata": {},
     "output_type": "execute_result"
    }
   ],
   "source": [
    "height=[1,4,3,2,7,8,10]\n",
    "np.mean(height)"
   ]
  },
  {
   "cell_type": "code",
   "execution_count": 33,
   "id": "1f53dff1-8fbf-44b6-8a28-40344db43f56",
   "metadata": {},
   "outputs": [
    {
     "data": {
      "text/plain": [
       "16.875"
      ]
     },
     "execution_count": 33,
     "metadata": {},
     "output_type": "execute_result"
    }
   ],
   "source": [
    "height1=[1,4,3,2,7,8,10,100] # here 100 is outlier.\n",
    "np.mean(height1) "
   ]
  },
  {
   "cell_type": "code",
   "execution_count": null,
   "id": "3809cc95-b02a-4a66-b2b8-fa410762e25c",
   "metadata": {},
   "outputs": [],
   "source": []
  }
 ],
 "metadata": {
  "kernelspec": {
   "display_name": "Python 3 (ipykernel)",
   "language": "python",
   "name": "python3"
  },
  "language_info": {
   "codemirror_mode": {
    "name": "ipython",
    "version": 3
   },
   "file_extension": ".py",
   "mimetype": "text/x-python",
   "name": "python",
   "nbconvert_exporter": "python",
   "pygments_lexer": "ipython3",
   "version": "3.10.8"
  }
 },
 "nbformat": 4,
 "nbformat_minor": 5
}
