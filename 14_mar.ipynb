{
 "cells": [
  {
   "cell_type": "markdown",
   "id": "d40b8919-e638-420d-a4a3-701a4eccde2f",
   "metadata": {},
   "source": [
    "Q1. Write a Python function that takes in two arrays of data and calculates the F-value for a variance ratio\n",
    "test. The function should return the F-value and the corresponding p-value for the test."
   ]
  },
  {
   "cell_type": "code",
   "execution_count": 1,
   "id": "48575ae3-79f2-4ac2-8336-e78880acf699",
   "metadata": {},
   "outputs": [],
   "source": [
    "import numpy as np\n",
    "from scipy.stats import f\n",
    "\n",
    "def variance_ratio_test(data1, data2):\n",
    "    # Calculate the variances of the two datasets\n",
    "    var1 = np.var(data1, ddof=1)\n",
    "    var2 = np.var(data2, ddof=1)\n",
    "    \n",
    "    # Calculate the F-value and p-value\n",
    "    f_value = var1 / var2\n",
    "    p_value = f.sf(f_value, len(data1)-1, len(data2)-1)\n",
    "    \n",
    "    return f_value, p_value\n"
   ]
  },
  {
   "cell_type": "markdown",
   "id": "22c9f26a-52ef-45d2-86a4-07d22f054539",
   "metadata": {},
   "source": [
    "Q2. Given a significance level of 0.05 and the degrees of freedom for the numerator and denominator of an\n",
    "F-distribution, write a Python function that returns the critical F-value for a two-tailed test."
   ]
  },
  {
   "cell_type": "code",
   "execution_count": null,
   "id": "54815cd1-b821-4eb1-818d-7be1ce151d34",
   "metadata": {},
   "outputs": [],
   "source": [
    "from scipy.stats import f\n",
    "\n",
    "def critical_f_value(alpha, dfn, dfd):\n",
    "    # Calculate the critical F-value for a two-tailed test\n",
    "    f_critical = f.ppf(1 - alpha/2, dfn, dfd)\n",
    "    \n",
    "    return f_critical\n"
   ]
  },
  {
   "cell_type": "markdown",
   "id": "384d7984-4cde-468a-a405-a959ac891db4",
   "metadata": {},
   "source": [
    "Q3. Write a Python program that generates random samples from two normal distributions with known\n",
    "\n",
    "variances and uses an F-test to determine if the variances are equal. The program should output the F-\n",
    "value, degrees of freedom, and p-value for the test."
   ]
  },
  {
   "cell_type": "code",
   "execution_count": 2,
   "id": "b09f44d7-94fb-47bd-af34-99f23c19ff23",
   "metadata": {},
   "outputs": [
    {
     "name": "stdout",
     "output_type": "stream",
     "text": [
      "F-value: 0.9488955188618912\n",
      "Degrees of Freedom (numerator, denominator): 99 99\n",
      "P-value: 0.6026819440880501\n"
     ]
    }
   ],
   "source": [
    "import numpy as np\n",
    "from scipy.stats import f\n",
    "\n",
    "def f_test_equal_variances(data1, data2):\n",
    "    # Calculate the variances of the two datasets\n",
    "    var1 = np.var(data1, ddof=1)\n",
    "    var2 = np.var(data2, ddof=1)\n",
    "\n",
    "    # Calculate the F-value\n",
    "    f_value = var1 / var2\n",
    "\n",
    "    # Calculate the degrees of freedom\n",
    "    dfn = len(data1) - 1\n",
    "    dfd = len(data2) - 1\n",
    "\n",
    "    # Calculate the p-value\n",
    "    p_value = f.sf(f_value, dfn, dfd)\n",
    "\n",
    "    return f_value, dfn, dfd, p_value\n",
    "\n",
    "\n",
    "# Generate random samples from two normal distributions with known variances\n",
    "np.random.seed(0)\n",
    "data1 = np.random.normal(loc=0, scale=1, size=100)\n",
    "data2 = np.random.normal(loc=0, scale=1, size=100)\n",
    "\n",
    "# Perform F-test for equal variances\n",
    "f_value, dfn, dfd, p_value = f_test_equal_variances(data1, data2)\n",
    "\n",
    "# Output the results\n",
    "print(\"F-value:\", f_value)\n",
    "print(\"Degrees of Freedom (numerator, denominator):\", dfn, dfd)\n",
    "print(\"P-value:\", p_value)\n"
   ]
  },
  {
   "cell_type": "markdown",
   "id": "a79a0036-4825-4414-a23c-09c4f160255a",
   "metadata": {},
   "source": [
    "Q4.The variances of two populations are known to be 10 and 15. A sample of 12 observations is taken from\n",
    "each population. Conduct an F-test at the 5% significance level to determine if the variances are\n",
    "significantly different."
   ]
  },
  {
   "cell_type": "code",
   "execution_count": 3,
   "id": "68008e76-dd8d-4f11-bee2-ef38852f26a6",
   "metadata": {},
   "outputs": [
    {
     "name": "stdout",
     "output_type": "stream",
     "text": [
      "F-value: 0.6666666666666666\n",
      "Degrees of Freedom (numerator, denominator): 11 11\n",
      "Critical F-value: 3.473699051085809\n",
      "Result: There is not enough evidence to suggest a significant difference in variances.\n"
     ]
    }
   ],
   "source": [
    "import numpy as np\n",
    "from scipy.stats import f\n",
    "\n",
    "def critical_f_value(alpha, dfn, dfd):\n",
    "    return f.ppf(1 - alpha/2, dfn, dfd)\n",
    "\n",
    "# Known variances\n",
    "variance1 = 10\n",
    "variance2 = 15\n",
    "\n",
    "# Sample sizes\n",
    "n1 = 12\n",
    "n2 = 12\n",
    "\n",
    "# Sample variances\n",
    "sample_variance1 = variance1\n",
    "sample_variance2 = variance2\n",
    "\n",
    "# Calculate the F-value\n",
    "f_value = sample_variance1 / sample_variance2\n",
    "\n",
    "# Calculate the degrees of freedom\n",
    "dfn = n1 - 1\n",
    "dfd = n2 - 1\n",
    "\n",
    "# Set the significance level\n",
    "alpha = 0.05\n",
    "\n",
    "# Calculate the critical F-value\n",
    "f_critical = critical_f_value(alpha, dfn, dfd)\n",
    "\n",
    "# Perform the F-test\n",
    "if f_value > f_critical:\n",
    "    result = \"The variances are significantly different.\"\n",
    "else:\n",
    "    result = \"There is not enough evidence to suggest a significant difference in variances.\"\n",
    "\n",
    "# Output the results\n",
    "print(\"F-value:\", f_value)\n",
    "print(\"Degrees of Freedom (numerator, denominator):\", dfn, dfd)\n",
    "print(\"Critical F-value:\", f_critical)\n",
    "print(\"Result:\", result)\n"
   ]
  },
  {
   "cell_type": "markdown",
   "id": "2b7ad9c0-f331-4cc1-8aec-38a44d2044da",
   "metadata": {},
   "source": [
    "A manufacturer claims that the variance of the diameter of a certain product is 0.005. A sample of 25\n",
    "products is taken, and the sample variance is found to be 0.006. Conduct an F-test at the 1% significance\n",
    "level to determine if the claim is justified."
   ]
  },
  {
   "cell_type": "code",
   "execution_count": 4,
   "id": "2c9e76a6-a4a7-420f-9693-4a2401ba2ba6",
   "metadata": {},
   "outputs": [
    {
     "name": "stdout",
     "output_type": "stream",
     "text": [
      "F-value: 1.2\n",
      "Degrees of Freedom (numerator, denominator): 24 0\n",
      "Critical F-value: nan\n",
      "Result: There is not enough evidence to suggest that the claimed variance is not justified.\n"
     ]
    }
   ],
   "source": [
    "import numpy as np\n",
    "from scipy.stats import f\n",
    "\n",
    "def critical_f_value(alpha, dfn, dfd):\n",
    "    return f.ppf(1 - alpha/2, dfn, dfd)\n",
    "\n",
    "# Claimed variance\n",
    "claimed_variance = 0.005\n",
    "\n",
    "# Sample size\n",
    "n = 25\n",
    "\n",
    "# Sample variance\n",
    "sample_variance = 0.006\n",
    "\n",
    "# Calculate the F-value\n",
    "f_value = sample_variance / claimed_variance\n",
    "\n",
    "# Calculate the degrees of freedom\n",
    "dfn = n - 1\n",
    "dfd = 0\n",
    "\n",
    "# Set the significance level\n",
    "alpha = 0.01\n",
    "\n",
    "# Calculate the critical F-value\n",
    "f_critical = critical_f_value(alpha, dfn, dfd)\n",
    "\n",
    "# Perform the F-test\n",
    "if f_value > f_critical or f_value < (1 / f_critical):\n",
    "    result = \"The claimed variance is not justified.\"\n",
    "else:\n",
    "    result = \"There is not enough evidence to suggest that the claimed variance is not justified.\"\n",
    "\n",
    "# Output the results\n",
    "print(\"F-value:\", f_value)\n",
    "print(\"Degrees of Freedom (numerator, denominator):\", dfn, dfd)\n",
    "print(\"Critical F-value:\", f_critical)\n",
    "print(\"Result:\", result)\n"
   ]
  },
  {
   "cell_type": "markdown",
   "id": "7ad4d3c7-b1e2-4279-a05c-f158e7b34cde",
   "metadata": {},
   "source": [
    "Q6. Write a Python function that takes in the degrees of freedom for the numerator and denominator of an\n",
    "F-distribution and calculates the mean and variance of the distribution. The function should return the\n",
    "mean and variance as a tuple."
   ]
  },
  {
   "cell_type": "code",
   "execution_count": null,
   "id": "14f6ec8b-e649-44ac-a96a-284b7545d228",
   "metadata": {},
   "outputs": [],
   "source": [
    "def f_distribution_mean_variance(dfn, dfd):\n",
    "    # Calculate the mean and variance of the F-distribution\n",
    "    mean = dfd / (dfd - 2)\n",
    "    variance = (2 * (dfd ** 2) * (dfn + dfd - 2)) / (dfn * ((dfd - 2) ** 2) * (dfd - 4))\n",
    "\n",
    "    return mean, variance\n"
   ]
  },
  {
   "cell_type": "markdown",
   "id": "32fb1ba6-59a3-4cfb-a6f8-52bdb66985e9",
   "metadata": {},
   "source": [
    "Q7. A random sample of 10 measurements is taken from a normal population with unknown variance. The\n",
    "sample variance is found to be 25. Another random sample of 15 measurements is taken from another\n",
    "normal population with unknown variance, and the sample variance is found to be 20. Conduct an F-test\n",
    "at the 10% significance level to determine if the variances are significantly different."
   ]
  },
  {
   "cell_type": "code",
   "execution_count": null,
   "id": "1aef187e-664d-4c1c-a6d2-6d9f5ea10279",
   "metadata": {},
   "outputs": [],
   "source": [
    "import numpy as np\n",
    "from scipy.stats import f\n",
    "\n",
    "def critical_f_value(alpha, dfn, dfd):\n",
    "    return f.ppf(1 - alpha/2, dfn, dfd)\n",
    "\n",
    "# Sample variances\n",
    "sample_variance1 = 25\n",
    "sample_variance2 = 20\n",
    "\n",
    "# Sample sizes\n",
    "n1 = 10\n",
    "n2 = 15\n",
    "\n",
    "# Calculate the F-value\n",
    "f_value = sample_variance1 / sample_variance2\n",
    "\n",
    "# Calculate the degrees of freedom\n",
    "dfn = n1 - 1\n",
    "dfd = n2 - 1\n",
    "\n",
    "# Set the significance level\n",
    "alpha = 0.10\n",
    "\n",
    "# Calculate the critical F-value\n",
    "f_critical = critical_f_value(alpha, dfn, dfd)\n",
    "\n",
    "# Perform the F-test\n",
    "if f_value > f_critical or f_value < (1 / f_critical):\n",
    "    result = \"The variances are significantly different.\"\n",
    "else:\n",
    "    result = \"There is not enough evidence to suggest a significant difference in variances.\"\n",
    "\n",
    "# Output the results\n",
    "print(\"F-value:\", f_value)\n",
    "print(\"Degrees of Freedom (numerator, denominator):\", dfn, dfd)\n",
    "print(\"Critical F-value:\", f_critical)\n",
    "print(\"Result:\", result)\n"
   ]
  },
  {
   "cell_type": "code",
   "execution_count": null,
   "id": "b7f99290-2b60-426f-96ad-68450461794a",
   "metadata": {},
   "outputs": [],
   "source": []
  },
  {
   "cell_type": "markdown",
   "id": "e9497185-b2e2-451d-9f5d-fc2e88512cf9",
   "metadata": {},
   "source": [
    "Q8. The following data represent the waiting times in minutes at two different restaurants on a Saturday\n",
    "night: Restaurant A: 24, 25, 28, 23, 22, 20, 27; Restaurant B: 31, 33, 35, 30, 32, 36. Conduct an F-test at the 5%\n",
    "significance level to determine if the variances are significantly different."
   ]
  },
  {
   "cell_type": "code",
   "execution_count": 5,
   "id": "b8e7d2e1-0dc6-4f8a-9b08-28cba4273477",
   "metadata": {},
   "outputs": [
    {
     "name": "stdout",
     "output_type": "stream",
     "text": [
      "F-value: 1.4551907719609583\n",
      "Degrees of Freedom (numerator, denominator): 6 5\n",
      "Critical F-value: 6.977701858535566\n",
      "Result: There is not enough evidence to suggest a significant difference in variances.\n"
     ]
    }
   ],
   "source": [
    "import numpy as np\n",
    "from scipy.stats import f\n",
    "\n",
    "def critical_f_value(alpha, dfn, dfd):\n",
    "    return f.ppf(1 - alpha/2, dfn, dfd)\n",
    "\n",
    "# Waiting times at the two restaurants\n",
    "restaurant_a = [24, 25, 28, 23, 22, 20, 27]\n",
    "restaurant_b = [31, 33, 35, 30, 32, 36]\n",
    "\n",
    "# Calculate the sample variances\n",
    "sample_variance_a = np.var(restaurant_a, ddof=1)\n",
    "sample_variance_b = np.var(restaurant_b, ddof=1)\n",
    "\n",
    "# Sample sizes\n",
    "n1 = len(restaurant_a)\n",
    "n2 = len(restaurant_b)\n",
    "\n",
    "# Calculate the F-value\n",
    "f_value = sample_variance_a / sample_variance_b\n",
    "\n",
    "# Calculate the degrees of freedom\n",
    "dfn = n1 - 1\n",
    "dfd = n2 - 1\n",
    "\n",
    "# Set the significance level\n",
    "alpha = 0.05\n",
    "\n",
    "# Calculate the critical F-value\n",
    "f_critical = critical_f_value(alpha, dfn, dfd)\n",
    "\n",
    "# Perform the F-test\n",
    "if f_value > f_critical or f_value < (1 / f_critical):\n",
    "    result = \"The variances are significantly different.\"\n",
    "else:\n",
    "    result = \"There is not enough evidence to suggest a significant difference in variances.\"\n",
    "\n",
    "# Output the results\n",
    "print(\"F-value:\", f_value)\n",
    "print(\"Degrees of Freedom (numerator, denominator):\", dfn, dfd)\n",
    "print(\"Critical F-value:\", f_critical)\n",
    "print(\"Result:\", result)\n"
   ]
  },
  {
   "cell_type": "markdown",
   "id": "355b9b6e-f361-4846-bccd-31bb0c8524ed",
   "metadata": {},
   "source": [
    "9.The following data represent the test scores of two groups of students: Group A: 80, 85, 90, 92, 87, 83;\n",
    "Group B: 75, 78, 82, 79, 81, 84. Conduct an F-test at the 1% significance level to determine if the variances\n",
    "are significantly different."
   ]
  },
  {
   "cell_type": "code",
   "execution_count": 6,
   "id": "2f571fd9-8b64-46ad-bac5-0de38ca9d73c",
   "metadata": {},
   "outputs": [
    {
     "name": "stdout",
     "output_type": "stream",
     "text": [
      "F-value: 1.9442622950819677\n",
      "Degrees of Freedom (numerator, denominator): 5 5\n",
      "Critical F-value: 14.939605459912224\n",
      "Result: There is not enough evidence to suggest a significant difference in variances.\n"
     ]
    }
   ],
   "source": [
    "import numpy as np\n",
    "from scipy.stats import f\n",
    "\n",
    "def critical_f_value(alpha, dfn, dfd):\n",
    "    return f.ppf(1 - alpha/2, dfn, dfd)\n",
    "\n",
    "# Test scores of the two groups\n",
    "group_a = [80, 85, 90, 92, 87, 83]\n",
    "group_b = [75, 78, 82, 79, 81, 84]\n",
    "\n",
    "# Calculate the sample variances\n",
    "sample_variance_a = np.var(group_a, ddof=1)\n",
    "sample_variance_b = np.var(group_b, ddof=1)\n",
    "\n",
    "# Sample sizes\n",
    "n1 = len(group_a)\n",
    "n2 = len(group_b)\n",
    "\n",
    "# Calculate the F-value\n",
    "f_value = sample_variance_a / sample_variance_b\n",
    "\n",
    "# Calculate the degrees of freedom\n",
    "dfn = n1 - 1\n",
    "dfd = n2 - 1\n",
    "\n",
    "# Set the significance level\n",
    "alpha = 0.01\n",
    "\n",
    "# Calculate the critical F-value\n",
    "f_critical = critical_f_value(alpha, dfn, dfd)\n",
    "\n",
    "# Perform the F-test\n",
    "if f_value > f_critical or f_value < (1 / f_critical):\n",
    "    result = \"The variances are significantly different.\"\n",
    "else:\n",
    "    result = \"There is not enough evidence to suggest a significant difference in variances.\"\n",
    "\n",
    "# Output the results\n",
    "print(\"F-value:\", f_value)\n",
    "print(\"Degrees of Freedom (numerator, denominator):\", dfn, dfd)\n",
    "print(\"Critical F-value:\", f_critical)\n",
    "print(\"Result:\", result)\n"
   ]
  },
  {
   "cell_type": "code",
   "execution_count": null,
   "id": "7f7d03d5-5dac-4a5a-bc90-35cf0f5c42bc",
   "metadata": {},
   "outputs": [],
   "source": []
  }
 ],
 "metadata": {
  "kernelspec": {
   "display_name": "Python 3 (ipykernel)",
   "language": "python",
   "name": "python3"
  },
  "language_info": {
   "codemirror_mode": {
    "name": "ipython",
    "version": 3
   },
   "file_extension": ".py",
   "mimetype": "text/x-python",
   "name": "python",
   "nbconvert_exporter": "python",
   "pygments_lexer": "ipython3",
   "version": "3.10.8"
  }
 },
 "nbformat": 4,
 "nbformat_minor": 5
}
