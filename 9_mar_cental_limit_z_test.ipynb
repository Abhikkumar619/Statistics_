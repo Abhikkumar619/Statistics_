{
 "cells": [
  {
   "cell_type": "markdown",
   "id": "8dfcc07b-78f2-4b7c-9cee-e237946105a6",
   "metadata": {},
   "source": [
    "\n",
    "Q1: What are the Probability Mass Function (PMF) and Probability Density Function (PDF)? Explain with\n",
    "an example."
   ]
  },
  {
   "cell_type": "code",
   "execution_count": null,
   "id": "ce316246-206b-42ba-a515-c4710bda75e1",
   "metadata": {},
   "outputs": [],
   "source": [
    "\"\"\"\n",
    "probability density function : The function which describes the all possible values and probability for a continuos random varibel\n",
    "is probability density function.\n",
    " (continuous random variable means variable which take infinite different values with in range \n",
    "\n",
    "  example : height of student.\n",
    "   \n",
    "probability mass function: it desctibes all possible value and probability for discrete random variable.\n",
    "                              discrete random variable means variable which have finite value with in given range.\n",
    "                            example: roling dise have six values, two side of coin head, and tail.\n",
    "\"\"\""
   ]
  },
  {
   "cell_type": "markdown",
   "id": "21206ef8-726e-42f0-b058-ca89eaf4f5a4",
   "metadata": {},
   "source": [
    "Q2: What is Cumulative Density Function (CDF)? Explain with an example. Why CDF is used?"
   ]
  },
  {
   "cell_type": "code",
   "execution_count": null,
   "id": "84e65e61-4765-4861-91c0-dca8c0ca7764",
   "metadata": {},
   "outputs": [],
   "source": [
    "\"\"\"\n",
    "Ans: The cumulative density function is another method to describes of random .\n",
    "     basically it used to any kind of random variable like continuous and discret.\n",
    "     \n",
    "     The cumulative distribution function have range from 0 to 1. it gives the area\n",
    "     under the probability density function up to the given specified.\n",
    "     \n",
    "     Example: height of student, tossing of coin."
   ]
  },
  {
   "cell_type": "markdown",
   "id": "60294f15-1b56-4deb-ae26-814cc25ced8d",
   "metadata": {},
   "source": [
    "Q3: What are some examples of situations where the normal distribution might be used as a model?\n",
    "Explain how the parameters of the normal distribution relate to the shape of the distribution."
   ]
  },
  {
   "cell_type": "code",
   "execution_count": null,
   "id": "742594cf-db5a-410c-bf06-9f21f43437f5",
   "metadata": {},
   "outputs": [],
   "source": [
    "\"\"\"\n",
    "Some example of noraml distribtion are: \n",
    "1. shoe size.\n",
    "2. blood pressure.\n",
    "3. student average Report. \n",
    "\n",
    "The two main parameter of normal distribution are mean and standard deviation. The mean determines where the peak \n",
    "of the curve is centerd. Increasing the mean moves the curve right, while the decreasing moves left.\n",
    "The smaller standerd deviation means that most of the data is clusterd around the mean. \n",
    "while a large standerd deviation means that the data is more spread out."
   ]
  },
  {
   "cell_type": "markdown",
   "id": "fb97a328-1207-4aa6-8b5a-130b3d2f0ddb",
   "metadata": {},
   "source": [
    "Q4: Explain the importance of Normal Distribution. Give a few real-life examples of Normal\n",
    "Distribution."
   ]
  },
  {
   "cell_type": "code",
   "execution_count": null,
   "id": "02b7023d-9fe3-4387-9d2b-4b133f55f6f8",
   "metadata": {},
   "outputs": [],
   "source": [
    "\"\"\"\n",
    "Ans: The importance of noraml distribution are: \n",
    "1. It has of the importance properties called central limit theory.\n",
    "2. In case the sample size is large the noraml distribution serves as good approximation.\n",
    "3. Due to its matheatical properties it is more popular and easy to calculate.\n",
    "4. It is used in statistical quality contol in setting up of control limits.\n",
    "5. The whole theory of sample tests t, f, ans chi-squre test is besed on normal distribution.\n",
    "\n",
    "Example:1. Birth Weight. \n",
    "        2. Technical stock market.\n",
    "        3. iQ test."
   ]
  },
  {
   "cell_type": "markdown",
   "id": "42d86993-3e40-445a-9634-a2db4856436a",
   "metadata": {},
   "source": [
    "Q5: What is Bernaulli Distribution? Give an Example. What is the difference between Bernoulli\n",
    "Distribution and Binomial Distribution?"
   ]
  },
  {
   "cell_type": "code",
   "execution_count": null,
   "id": "100f6b2f-8aca-44bd-bf43-e3746d9a5a60",
   "metadata": {},
   "outputs": [],
   "source": [
    "\"\"\"\n",
    "Ans: It is discrete probability distribution of random variable which take the value 1 with probability p and the\n",
    "     value 0 with probability q=1-p. it tought of a model for set of possible outcomes of any experiment that asks\n",
    "     a yes or not question.\n",
    "     The difference between bernoulli distribution and binomial distribution is that bernouli distribution represents\n",
    "     the success or failure of a single bernouli trial . where binomial distrubution represents the number of successs and failure in n independents times.\n",
    "     \n",
    "     "
   ]
  },
  {
   "cell_type": "markdown",
   "id": "98924661-0bce-4723-ba2f-db615a3f7476",
   "metadata": {},
   "source": [
    "Q6. Consider a dataset with a mean of 50 and a standard deviation of 10. If we assume that the dataset\n",
    "is normally distributed, what is the probability that a randomly selected observation will be greater\n",
    "than 60? Use the appropriate formula and show your calculations."
   ]
  },
  {
   "cell_type": "code",
   "execution_count": 15,
   "id": "b5d5183b-c019-49b0-b399-12398069bdc7",
   "metadata": {},
   "outputs": [],
   "source": [
    "\"\"\"\n",
    "mean=50 \n",
    "sd=10\n",
    "sample_mean=60\n",
    "\n",
    "z_score=sample_mean-mean/sd\n",
    "z_score=1\n",
    "\n",
    "using z-score table +1 -- 0.84134 \n",
    "area under curve= 1-0.8134\n",
    "                =0.15866\n",
    "                =Which means 15% of probability that randomly selected \n",
    "                observation will grater than 60.\n",
    "\n"
   ]
  },
  {
   "cell_type": "markdown",
   "id": "c95410ed-6a1d-48d8-9579-a9df835aa3a6",
   "metadata": {},
   "source": [
    "Q7: Explain uniform Distribution with an example."
   ]
  },
  {
   "cell_type": "code",
   "execution_count": null,
   "id": "cd37c906-dd4d-4798-83fb-f68b0bc2b950",
   "metadata": {},
   "outputs": [],
   "source": [
    "\"\"\"\n",
    "Ans: In statistics, uniform distribution refers to atype of probability distrubution in which all outcomes are equally likely.\n",
    "     \n",
    "     Example: A deck cards has uniform distribution because the likehood of drawing a heart, a club\n",
    "              ,diamond or spade is equally likely.\n",
    "              "
   ]
  },
  {
   "cell_type": "markdown",
   "id": "ee5f7c7f-2afb-4409-80f9-506e85334dfb",
   "metadata": {},
   "source": [
    "Q8: What is the z score? State the importance of the z score."
   ]
  },
  {
   "cell_type": "code",
   "execution_count": null,
   "id": "ccd8f64b-97c1-4e87-8b26-96965f4ef765",
   "metadata": {},
   "outputs": [],
   "source": [
    "\"\"\"\n",
    "Ans:Z-score is special normal distrubution where mean is 0 and the standard deviation \n",
    "    1. any normal distrubution can be standarized by converting its values into z-score\n",
    "    .z-score tell you how many standard deviation from the mean each values lies.\n",
    "    \n",
    "    It is importance because it tells you not only something about value itself but also \n",
    "    where the value lies in the distribution.\n",
    "    "
   ]
  },
  {
   "cell_type": "markdown",
   "id": "197f5ea9-d0d2-426f-8896-e8455f500bfc",
   "metadata": {},
   "source": [
    "Q9: What is Central Limit Theorem? State the significance of the Central Limit Theorem."
   ]
  },
  {
   "cell_type": "code",
   "execution_count": null,
   "id": "a82952b8-3311-43e0-a5ed-8f85c83a4afe",
   "metadata": {},
   "outputs": [],
   "source": [
    "\"\"\"\n",
    "Ans: The centrel limit says that the sampling distrubution of mean will alaways be normally distributed as, long as the sample\n",
    "     size is large enough. \n",
    "     Regardeless of whether the population has noraml, poisson, binominal or any other distrubution, the sampling distrubution \n",
    "     of the mean be noraml.\n",
    "    \n",
    "    significance of central limit theoram.\n",
    "    1.In  political polls are used to estimate the number of people who can who support \n",
    "      a specific candidate.\n",
    "    2. To calculate various population such as family income, electricity consuption, individual salaries and so on.\n",
    "    \n"
   ]
  },
  {
   "cell_type": "markdown",
   "id": "5b72c15b-cbc3-4842-b0f4-adf5cb330448",
   "metadata": {},
   "source": [
    "Q10: State the assumptions of the Central Limit Theorem."
   ]
  },
  {
   "cell_type": "code",
   "execution_count": null,
   "id": "7e3d5404-a982-4b65-9386-b6e6117119c0",
   "metadata": {},
   "outputs": [],
   "source": [
    "\"\"\"\n",
    "Assumption:\n",
    "1. It needs to be sampled at random.\n",
    "2. One sample should not impact the others.\n",
    "3. The sample size not exceed 10% od the sample."
   ]
  }
 ],
 "metadata": {
  "kernelspec": {
   "display_name": "Python 3 (ipykernel)",
   "language": "python",
   "name": "python3"
  },
  "language_info": {
   "codemirror_mode": {
    "name": "ipython",
    "version": 3
   },
   "file_extension": ".py",
   "mimetype": "text/x-python",
   "name": "python",
   "nbconvert_exporter": "python",
   "pygments_lexer": "ipython3",
   "version": "3.10.8"
  }
 },
 "nbformat": 4,
 "nbformat_minor": 5
}
