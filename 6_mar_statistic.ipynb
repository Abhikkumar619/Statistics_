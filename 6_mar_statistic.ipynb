{
 "cells": [
  {
   "cell_type": "code",
   "execution_count": null,
   "id": "8ea865d1-3393-4db1-b7cc-77cca97d18b7",
   "metadata": {},
   "outputs": [],
   "source": [
    "\"\"\"\n",
    "Q1. What is Statistics?\n",
    "\n",
    "Ans: statistics is the science of collecting, organizing and analyzing data. \n",
    "    data scientist use statistics to gather, review , analyze and draw conclusion from data."
   ]
  },
  {
   "cell_type": "code",
   "execution_count": null,
   "id": "4606a648-27c5-431b-9e11-d295f21ac848",
   "metadata": {},
   "outputs": [],
   "source": [
    "\"\"\"\n",
    "Q2. Define the different types of statistics and give an example of when each type might be used.\n",
    "\n",
    "Ans : Types of statistics are: \n",
    "      1. Descriptive statistics.\n",
    "      2. inferential statistics. \n",
    "      \n",
    "1. Descriptive statistics : Descriptive statistics refers to the method and techinques used to summarize and decribes the \n",
    "                            characterstics of the set of data in easily and understable form .\n",
    "                            it is used to calculate the centeral tendency such as mean, medium , mode as well as mesure standerd deviation and range.\n",
    "\n",
    "2. inferential statistics: it is used to draw conclusions or make predictions about the large data based on sample data. \n",
    "                           it also used to test hypothesis ans make predictions about future events. \n",
    "\"\"\"\n"
   ]
  },
  {
   "cell_type": "code",
   "execution_count": null,
   "id": "7fc3ab84-de57-4a72-9af3-8d2d370f517c",
   "metadata": {},
   "outputs": [],
   "source": [
    "# Q4. Categorise the following datasets with respect to quantitative and qualitative data types:"
   ]
  },
  {
   "cell_type": "code",
   "execution_count": null,
   "id": "e6d8857f-0dcf-496b-b125-60668904f175",
   "metadata": {},
   "outputs": [],
   "source": [
    "# (i) Grading in exam: A+, A, B+, B, C+, C, D, E ----Qualitative data.\n",
    "# (ii) Colour of mangoes: yellow, green, orange, red---Qualitative data.\n",
    "# (iii) Height data of a class: [178.9, 179, 179.5, 176, 177.2, 178.3, 175.8,...]--Quantitaive data\n",
    "# (iv) Number of mangoes exported by a farm: [500, 600, 478, 672, ...]----uantitaive data"
   ]
  },
  {
   "cell_type": "code",
   "execution_count": null,
   "id": "4d740acf-c839-4497-a89a-accb4fb80989",
   "metadata": {},
   "outputs": [],
   "source": [
    "\"\"\"\n",
    "Q5. Explain the concept of levels of measurement and give an example of a variable for each level.\n",
    "\n",
    "Ans: The level of measurement of data are: \n",
    "     1. Nominal scale data. \n",
    "     2. Ordinal scale data. \n",
    "     3. Interval scale data. \n",
    "     4. Ratio scale data.\n",
    "    \n",
    "1. Nominal scale data: The data which can be categoricl and order does not matter are Nominal scale data.\n",
    "                     Example: \n",
    "                     Gender, color, bood group.\n",
    "2. Ordinal scale data : The data which is categorical and ranking is important this type of data set knowns as ordinal scale data. \n",
    "                        Example : review section of product good, best, bad. \n",
    "        \n",
    "3. Interval scale data : It is measure scale data in which order matter, difference can be measured but ratio cannot measured and might not be \n",
    "                         starts with zero . \n",
    "                         Example : temprature, SAT score. \n",
    "4. Ratio scale data : It quantitaive scale data in which order matter, difference are measurable(including ratio) and start with zero. \n",
    "                      Example : Student mark in the class. \n",
    "                                student IQ level. "
   ]
  },
  {
   "cell_type": "code",
   "execution_count": null,
   "id": "c7a089db-72aa-4a76-858b-807008a88888",
   "metadata": {},
   "outputs": [],
   "source": [
    "\"\"\"\n",
    "Q6. Why is it important to understand the level of measurement when analyzing data? Provide an\n",
    "example to illustrate your answer.\n",
    "\n",
    "Ans: The level of measurement is important because the it determmines the type of statistical analysis that can be conducted and, \n",
    "     and therefore, the type of conclusions that can be drawn from research.\n",
    "     \n",
    "     Example : The set of data about height of student in classroom, so that we can find out the type data\n",
    "               and find statistical analysis. \n",
    "\"\"\"  "
   ]
  },
  {
   "cell_type": "code",
   "execution_count": null,
   "id": "23260fd3-0739-467e-b317-2dd7daedf658",
   "metadata": {},
   "outputs": [],
   "source": [
    "\"\"\"\n",
    "Q7. How nominal data type is different from ordinal data type.\n",
    "Ans: In term of data type both are Qualitative data but in nominal scale order does not matter where as in ordinal scale order matter. \n",
    "    Example of Nominal scale: \n",
    "    1. color. \n",
    "    2. gender. \n",
    "    \n",
    "    Example of Ordinal scale: \n",
    "    1. app review. \n",
    "    2. Ranking of school student 1st 2nd 3rd\n",
    "\"\"\""
   ]
  },
  {
   "cell_type": "code",
   "execution_count": null,
   "id": "33fdd99c-49b2-47b0-8b2a-fe0fc913f8c9",
   "metadata": {},
   "outputs": [],
   "source": [
    "\"\"\"\n",
    "Q8. Which type of plot can be used to display data in terms of range?\n",
    "\n",
    "Ans: Histogram plot can be used to display data in terms of range. \n",
    "\"\"\""
   ]
  },
  {
   "cell_type": "code",
   "execution_count": null,
   "id": "464162aa-7236-40ee-aa37-90a1898eed2b",
   "metadata": {},
   "outputs": [],
   "source": [
    "\"\"\"\n",
    "Q9. Describe the difference between descriptive and inferential statistics. Give an example of each\n",
    "type of statistics and explain how they are used.\n",
    "\n",
    "Ans: \n",
    "-Descriptive statistics: \n",
    "1. Descriptive statistics describes the population under study. \n",
    "2.It collects , organises  ans analyzes and present data in meaningful way.  \n",
    "3. There is a diagrammatic or tabular representation od final result. \n",
    "4. It descibes the data which is already knowns. \n",
    "\n",
    "\n",
    "Example: What is the average height of student , median, mode, etc \n",
    "\n",
    "-inferential statistics: \n",
    "1. Inferential statistics is type of statistics that focuses on drawing. \n",
    "2. conclusion about the population, on the basis of sample analysis ans observation.\n",
    "3. The final result is display in the form of probabilty. \n",
    "4. It explains the occurrence of an event beyond the data available.  \n",
    "\n",
    "\n",
    "\n",
    "Example :Are the height of student in classroom similar to what you except in the entire college, \n",
    "\n",
    "\"\"\""
   ]
  },
  {
   "cell_type": "code",
   "execution_count": null,
   "id": "615d9546-1d42-4216-93e5-1291a6f6f8da",
   "metadata": {},
   "outputs": [],
   "source": [
    "\"\"\"\n",
    "Q10. What are some common measures of central tendency and variability used in statistics? Explain\n",
    "how each measure can be used to describe a dataset.\n",
    "\n",
    "Ans: \n",
    "\n",
    "Centeral Tendency : Mean , median ,mode. \n",
    "Variabality : Variance std.deviation. \n",
    "\n",
    "Mean : Mean is used to calculate the central data calculate by adding up all the value in dataset and \n",
    "       dividing by number of value. \n",
    "       \n",
    "Median : median is the middle value in the dataset when arrenged in order. \n",
    "\n",
    "Mode : The most frequent data in the dataset.\n",
    "\n",
    "Variance : A measurement of how far each number in data set is from the mean. \n",
    "\n",
    "standard deviation : Is the average amoutn of variability in dataset. it tells you on average, \n",
    "                     how far each value lies from the mean. \n",
    "        \n",
    "\"\"\"\n"
   ]
  }
 ],
 "metadata": {
  "kernelspec": {
   "display_name": "Python 3 (ipykernel)",
   "language": "python",
   "name": "python3"
  },
  "language_info": {
   "codemirror_mode": {
    "name": "ipython",
    "version": 3
   },
   "file_extension": ".py",
   "mimetype": "text/x-python",
   "name": "python",
   "nbconvert_exporter": "python",
   "pygments_lexer": "ipython3",
   "version": "3.10.8"
  }
 },
 "nbformat": 4,
 "nbformat_minor": 5
}
