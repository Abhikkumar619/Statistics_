{
 "cells": [
  {
   "cell_type": "markdown",
   "id": "bb0b5c5f-dcf5-41c1-84e5-045618e6c4bd",
   "metadata": {},
   "source": [
    "Q1. What is the Probability density function?"
   ]
  },
  {
   "cell_type": "code",
   "execution_count": null,
   "id": "2c92cbb8-ce76-4e73-9266-a1f54af16a7e",
   "metadata": {},
   "outputs": [],
   "source": [
    "\"\"\"\n",
    "Ans: A stastical function that describes all the possible value and probability for a random variable with in a given range.\n",
    "     basically used in continous random variable.\n",
    "\"\"\""
   ]
  },
  {
   "cell_type": "markdown",
   "id": "0773c085-90d0-43c5-b9e1-cd13937dd067",
   "metadata": {},
   "source": [
    "Q2. What are the types of Probability distribution?\n"
   ]
  },
  {
   "cell_type": "code",
   "execution_count": null,
   "id": "9899a411-b652-42c4-9dbd-cbed667a882d",
   "metadata": {},
   "outputs": [],
   "source": [
    "\"\"\"\n",
    "\n",
    "Ans:Types of probability distribution function are: \n",
    "    1. Probability density function.\n",
    "    2. Probality mass function.\n",
    "    3. Culmulative distribution function.\n",
    "\"\"\"\n"
   ]
  },
  {
   "cell_type": "markdown",
   "id": "fcedb535-f2dd-4454-a901-00f3a2c7d757",
   "metadata": {},
   "source": [
    "Q3. Write a Python function to calculate the probability density function of a normal distribution with\n",
    "given mean and standard deviation at a given point.\n",
    "\n"
   ]
  },
  {
   "cell_type": "code",
   "execution_count": 1,
   "id": "b6988cdd-9d74-4042-9f0b-23c49e1d4841",
   "metadata": {},
   "outputs": [],
   "source": [
    "import scipy.stats as stat\n",
    "import numpy as np"
   ]
  },
  {
   "cell_type": "code",
   "execution_count": 4,
   "id": "591bdbe8-80b7-4481-8d77-bd528a6f3218",
   "metadata": {},
   "outputs": [],
   "source": [
    "a=np.linspace(1,10,5)"
   ]
  },
  {
   "cell_type": "code",
   "execution_count": 5,
   "id": "ce8f23d2-c630-4b82-ab96-23bce48a4055",
   "metadata": {},
   "outputs": [
    {
     "data": {
      "text/plain": [
       "array([ 1.  ,  3.25,  5.5 ,  7.75, 10.  ])"
      ]
     },
     "execution_count": 5,
     "metadata": {},
     "output_type": "execute_result"
    }
   ],
   "source": [
    "a"
   ]
  },
  {
   "cell_type": "code",
   "execution_count": 6,
   "id": "b545dccf-f4ae-44b7-b425-29653e542acf",
   "metadata": {},
   "outputs": [],
   "source": [
    "mean=np.mean(a)"
   ]
  },
  {
   "cell_type": "code",
   "execution_count": 7,
   "id": "4a95ef03-b147-48a0-a68f-f58171d13a5a",
   "metadata": {},
   "outputs": [
    {
     "data": {
      "text/plain": [
       "5.5"
      ]
     },
     "execution_count": 7,
     "metadata": {},
     "output_type": "execute_result"
    }
   ],
   "source": [
    "mean"
   ]
  },
  {
   "cell_type": "code",
   "execution_count": 8,
   "id": "75494bcd-4b49-4e45-946f-95de2db17f6f",
   "metadata": {},
   "outputs": [],
   "source": [
    "std=np.std(a)"
   ]
  },
  {
   "cell_type": "code",
   "execution_count": 9,
   "id": "f80e34d3-8808-4a0f-9f8f-8d7641b43645",
   "metadata": {},
   "outputs": [
    {
     "data": {
      "text/plain": [
       "3.181980515339464"
      ]
     },
     "execution_count": 9,
     "metadata": {},
     "output_type": "execute_result"
    }
   ],
   "source": [
    "std"
   ]
  },
  {
   "cell_type": "code",
   "execution_count": 31,
   "id": "8ee277ef-e2c1-4dc7-ac5b-395eb7104c4b",
   "metadata": {},
   "outputs": [],
   "source": [
    "pdf_normal=stat.norm.pdf(2,loc=mean, scale=std)"
   ]
  },
  {
   "cell_type": "code",
   "execution_count": 32,
   "id": "1bd60483-cd0d-4d03-a6d7-e4115ce77699",
   "metadata": {},
   "outputs": [
    {
     "data": {
      "text/plain": [
       "0.06846856040211072"
      ]
     },
     "execution_count": 32,
     "metadata": {},
     "output_type": "execute_result"
    }
   ],
   "source": [
    "pdf_normal"
   ]
  },
  {
   "cell_type": "markdown",
   "id": "7f6a3b95-db42-4381-b5c5-9308f4a681ea",
   "metadata": {},
   "source": [
    "Q4. What are the properties of Binomial distribution? Give two examples of events where binomial\n",
    "distribution can be applied."
   ]
  },
  {
   "cell_type": "code",
   "execution_count": null,
   "id": "7433f495-ae0d-4457-9e38-9e1fb974120b",
   "metadata": {},
   "outputs": [],
   "source": [
    "\"\"\"\n",
    "1. Every Experiment outcome is binary.\n",
    "2. These experiment is perfomed for n trial.\n",
    "3. These experiment is done for Discreate Random variable.\n",
    "4. A single success/ failure experiment is bernoulli experiment.\n",
    "\n",
    "Example: Tossing coin 10 times.\n",
    "         Rolling dice 1000 times.\n"
   ]
  },
  {
   "cell_type": "markdown",
   "id": "295802ef-25a3-41aa-b069-2bb4f1c6afd4",
   "metadata": {},
   "source": [
    "Q5. Generate a random sample of size 1000 from a binomial distribution with probability of success 0.4\n",
    "and plot a histogram of the results using matplotlib."
   ]
  },
  {
   "cell_type": "code",
   "execution_count": 26,
   "id": "55e814d8-ee0a-4ba3-9953-c8b5757bc651",
   "metadata": {},
   "outputs": [],
   "source": [
    "import numpy as np\n",
    "n=1000 # number of tril.\n",
    "p=0.4\n",
    "x=np.arange(0,n) # probability of sucess"
   ]
  },
  {
   "cell_type": "code",
   "execution_count": 27,
   "id": "733df794-5f12-4644-a686-2e5a5de21174",
   "metadata": {},
   "outputs": [
    {
     "data": {
      "text/plain": [
       "array([1, 2, 3, 4, 5, 6, 7, 8, 9])"
      ]
     },
     "execution_count": 27,
     "metadata": {},
     "output_type": "execute_result"
    }
   ],
   "source": [
    "x[1:10]"
   ]
  },
  {
   "cell_type": "code",
   "execution_count": 28,
   "id": "e71e1d5c-3af9-44af-b319-ce36790c3c11",
   "metadata": {},
   "outputs": [],
   "source": [
    "import scipy.stats as stat\n",
    "import matplotlib.pyplot as plt"
   ]
  },
  {
   "cell_type": "code",
   "execution_count": 31,
   "id": "5893befb-0d35-47e5-8b48-761b1fcffbd3",
   "metadata": {},
   "outputs": [],
   "source": [
    "binomial_pmf=stat.binom.pmf(x,n,p)"
   ]
  },
  {
   "cell_type": "code",
   "execution_count": 32,
   "id": "76207733-edc8-4ba0-b274-bb1ab787de84",
   "metadata": {},
   "outputs": [
    {
     "data": {
      "image/png": "[encoded data removed]",
      "text/plain": [
       "<Figure size 640x480 with 1 Axes>"
      ]
     },
     "metadata": {},
     "output_type": "display_data"
    }
   ],
   "source": [
    "plt.plot(x, binomial_pmf,color='red')\n",
    "plt.show()"
   ]
  },
  {
   "cell_type": "markdown",
   "id": "5ca1dcef-4439-424f-8960-81dd60a252fd",
   "metadata": {},
   "source": [
    "Q6. Write a Python function to calculate the cumulative distribution function of a Poisson distribution\n",
    "with given mean at a given point."
   ]
  },
  {
   "cell_type": "code",
   "execution_count": 38,
   "id": "181026bb-ea46-4431-9759-47de6e8adba2",
   "metadata": {},
   "outputs": [],
   "source": [
    "x=np.arange(0,20,1)"
   ]
  },
  {
   "cell_type": "code",
   "execution_count": 39,
   "id": "f7a68c15-61ed-4f8e-a516-69a74c6f6ed2",
   "metadata": {},
   "outputs": [
    {
     "data": {
      "text/plain": [
       "array([ 0,  1,  2,  3,  4,  5,  6,  7,  8,  9, 10, 11, 12, 13, 14, 15, 16,\n",
       "       17, 18, 19])"
      ]
     },
     "execution_count": 39,
     "metadata": {},
     "output_type": "execute_result"
    }
   ],
   "source": [
    "x"
   ]
  },
  {
   "cell_type": "code",
   "execution_count": 41,
   "id": "70709517-e89d-4de9-a258-3bc353b2498c",
   "metadata": {},
   "outputs": [],
   "source": [
    "mean=10"
   ]
  },
  {
   "cell_type": "code",
   "execution_count": 42,
   "id": "6271e9fd-e61d-4b5e-ab7c-d3e617dfe6c5",
   "metadata": {},
   "outputs": [],
   "source": [
    "y=stat.poisson.cdf(x,mean,loc=0)"
   ]
  },
  {
   "cell_type": "code",
   "execution_count": 47,
   "id": "2f92ec7d-6fa6-456b-87d6-8a5c3369023d",
   "metadata": {},
   "outputs": [
    {
     "data": {
      "text/plain": [
       "<matplotlib.collections.PathCollection at 0x7fd1ade240d0>"
      ]
     },
     "execution_count": 47,
     "metadata": {},
     "output_type": "execute_result"
    },
    {
     "data": {
      "image/png": "[encoded data removed]",
      "text/plain": [
       "<Figure size 640x480 with 1 Axes>"
      ]
     },
     "metadata": {},
     "output_type": "display_data"
    }
   ],
   "source": [
    "plt.scatter(x,y, c='r' )\n",
    "\n"
   ]
  },
  {
   "cell_type": "markdown",
   "id": "9518d253-6065-440a-a6bb-1d7c2b1ecb11",
   "metadata": {},
   "source": [
    "Q7. How Binomial distribution different from Poisson distribution?"
   ]
  },
  {
   "cell_type": "code",
   "execution_count": null,
   "id": "a49999fb-b8a5-45ed-ba75-248111613b42",
   "metadata": {},
   "outputs": [],
   "source": [
    "\"\"\"\n",
    "Binomial distribution.\n",
    "1. Binominal distribution is one in which the probability of repeated number of trials are studied.\n",
    "2. number of trials are fixed. \n",
    "3.mean> vaiance.\n",
    "4. Example: coin tossing experiment.\n",
    "\n",
    "Poisson distribution.\n",
    "1. Poisson Distribution gives the count of independent event occur randomly with a given perrid of time.\n",
    "2. number of trials are infinity.\n",
    "3. Mean = Variance.\n",
    "4. Example: printing mistakes/ page of large book.\n"
   ]
  },
  {
   "cell_type": "markdown",
   "id": "07ae50ae-1d1a-4dcb-8791-4c559f1fd1af",
   "metadata": {},
   "source": [
    "Q8. Generate a random sample of size 1000 from a Poisson distribution with mean 5 and calculate the\n",
    "sample mean and variance."
   ]
  },
  {
   "cell_type": "code",
   "execution_count": null,
   "id": "f88eee84-49b8-4142-a503-3a3c12985aeb",
   "metadata": {},
   "outputs": [],
   "source": []
  },
  {
   "cell_type": "markdown",
   "id": "762ad927-32ac-40d9-a40e-bfdfb621373c",
   "metadata": {},
   "source": [
    "Q9. How mean and variance are related in Binomial distribution and Poisson distribution?"
   ]
  },
  {
   "cell_type": "code",
   "execution_count": null,
   "id": "a91c8ece-8633-42fb-b1ed-fa8556eeb3fd",
   "metadata": {},
   "outputs": [],
   "source": [
    "\"\"\"\n",
    "Ans: In a binomial distribution, the mean is grater than the variance while in poisson distribution,\n",
    "     the mean and variance are equal.\n",
    "\"\"\""
   ]
  },
  {
   "cell_type": "markdown",
   "id": "ffd64fff-f5ff-4678-b584-34314378e4ab",
   "metadata": {},
   "source": [
    "Q10. In normal distribution with respect to mean position, where does the least frequent data appear?"
   ]
  },
  {
   "cell_type": "code",
   "execution_count": null,
   "id": "78ddf049-9c42-478b-bd3d-84bb241c12a4",
   "metadata": {},
   "outputs": [],
   "source": [
    "\"\"\"\n",
    "Ans: In a normal distribution, most of the observed data is near the mean , while the data become less frequent when farther away from the mean.\n",
    "     .The least frequent data appers at the tails of the distribution."
   ]
  }
 ],
 "metadata": {
  "kernelspec": {
   "display_name": "Python 3 (ipykernel)",
   "language": "python",
   "name": "python3"
  },
  "language_info": {
   "codemirror_mode": {
    "name": "ipython",
    "version": 3
   },
   "file_extension": ".py",
   "mimetype": "text/x-python",
   "name": "python",
   "nbconvert_exporter": "python",
   "pygments_lexer": "ipython3",
   "version": "3.10.8"
  }
 },
 "nbformat": 4,
 "nbformat_minor": 5
}
