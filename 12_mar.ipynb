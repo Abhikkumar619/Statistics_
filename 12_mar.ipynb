{
 "cells": [
  {
   "cell_type": "markdown",
   "id": "2997b4a7-4f53-4e73-9ea7-b01699e2493c",
   "metadata": {},
   "source": [
    "Q1. Calculate the 95% confidence interval for a sample of data with a mean of 50 and a standard deviation\n",
    "of 5 using Python. Interpret the results."
   ]
  },
  {
   "cell_type": "code",
   "execution_count": 1,
   "id": "620c8b44-b943-479e-86eb-64b58d555d92",
   "metadata": {},
   "outputs": [
    {
     "name": "stdout",
     "output_type": "stream",
     "text": [
      "Confidence Interval: (49.01, 50.99)\n"
     ]
    }
   ],
   "source": [
    "import scipy.stats as stats\n",
    "\n",
    "sample_mean = 50\n",
    "sample_std = 5\n",
    "sample_size = 100\n",
    "\n",
    "confidence_level = 0.95\n",
    "\n",
    "# Calculate the standard error\n",
    "standard_error = sample_std / (sample_size ** 0.5)\n",
    "\n",
    "# Calculate the margin of error\n",
    "margin_of_error = stats.t.ppf((1 + confidence_level) / 2, df=sample_size - 1) * standard_error\n",
    "\n",
    "# Calculate the confidence interval\n",
    "lower_bound = sample_mean - margin_of_error\n",
    "upper_bound = sample_mean + margin_of_error\n",
    "\n",
    "print(\"Confidence Interval: ({:.2f}, {:.2f})\".format(lower_bound, upper_bound))"
   ]
  },
  {
   "cell_type": "code",
   "execution_count": null,
   "id": "11995ef8-f88d-4814-8eaf-31553dc23937",
   "metadata": {},
   "outputs": [],
   "source": []
  },
  {
   "cell_type": "code",
   "execution_count": null,
   "id": "46b5e1cf-7e97-4e62-ad05-8953c9357f4d",
   "metadata": {},
   "outputs": [],
   "source": []
  },
  {
   "cell_type": "markdown",
   "id": "d57505d5-3bdf-4264-8e38-d0913a435db5",
   "metadata": {},
   "source": [
    "Q2. Conduct a chi-square goodness of fit test to determine if the distribution of colors of M&Ms in a bag\n",
    "matches the expected distribution of 20% blue, 20% orange, 20% green, 10% yellow, 10% red, and 20%\n",
    "brown. Use Python to perform the test with a significance level of 0.05."
   ]
  },
  {
   "cell_type": "code",
   "execution_count": 19,
   "id": "13144fa4-387c-4b81-8077-bbc8534bf5f4",
   "metadata": {},
   "outputs": [],
   "source": [
    "import scipy.stats as stat\n",
    "import numpy as np"
   ]
  },
  {
   "cell_type": "code",
   "execution_count": 5,
   "id": "9c382135-8a8f-47da-9d5f-2a397887e2b7",
   "metadata": {},
   "outputs": [],
   "source": [
    "# observed_frequency\n",
    "observed_frequency=np.array([56, 44, 46 ,62, 53, 38])"
   ]
  },
  {
   "cell_type": "code",
   "execution_count": 11,
   "id": "35affc97-6a94-4a39-a007-e7e0f6c72939",
   "metadata": {},
   "outputs": [],
   "source": [
    "expected_fre=np.array([0.2, 0.2, 0.2, 0.1, 0.1, 0.2])*np.sum(observed_frequency)"
   ]
  },
  {
   "cell_type": "code",
   "execution_count": 12,
   "id": "6a25e644-cae2-466b-97de-6a22909005d2",
   "metadata": {},
   "outputs": [
    {
     "data": {
      "text/plain": [
       "array([59.8, 59.8, 59.8, 29.9, 29.9, 59.8])"
      ]
     },
     "execution_count": 12,
     "metadata": {},
     "output_type": "execute_result"
    }
   ],
   "source": [
    "expected_fre"
   ]
  },
  {
   "cell_type": "code",
   "execution_count": 17,
   "id": "cae830eb-e123-4f4a-aa45-fe032d316640",
   "metadata": {},
   "outputs": [],
   "source": [
    "# perfome chi-squared test\n",
    "chi_square_test, p_value=stat.chisquare(observed_frequency, expected_fre)"
   ]
  },
  {
   "cell_type": "code",
   "execution_count": 18,
   "id": "6f1bb199-adbb-4a23-bf0e-a6edbe7674ad",
   "metadata": {},
   "outputs": [
    {
     "data": {
      "text/plain": [
       "67.85618729096988"
      ]
     },
     "execution_count": 18,
     "metadata": {},
     "output_type": "execute_result"
    }
   ],
   "source": [
    "chi_square_test"
   ]
  },
  {
   "cell_type": "code",
   "execution_count": 19,
   "id": "5f381942-c392-4f2c-9fd8-bec4be5799b4",
   "metadata": {},
   "outputs": [
    {
     "data": {
      "text/plain": [
       "2.8607145930109365e-13"
      ]
     },
     "execution_count": 19,
     "metadata": {},
     "output_type": "execute_result"
    }
   ],
   "source": [
    "p_value"
   ]
  },
  {
   "cell_type": "code",
   "execution_count": 21,
   "id": "df0226dc-98f9-4d94-b29e-781dd3809201",
   "metadata": {},
   "outputs": [],
   "source": [
    "signification_value=0.05\n",
    "CI=1-signification_value\n",
    "dof=len(expected_fre)-1\n",
    "critical_value=stat.chi2.ppf(CI, dof)"
   ]
  },
  {
   "cell_type": "code",
   "execution_count": 22,
   "id": "8e6af1c2-609d-4aa0-8943-e34fa3316111",
   "metadata": {},
   "outputs": [
    {
     "data": {
      "text/plain": [
       "11.070497693516351"
      ]
     },
     "execution_count": 22,
     "metadata": {},
     "output_type": "execute_result"
    }
   ],
   "source": [
    "critical_value"
   ]
  },
  {
   "cell_type": "code",
   "execution_count": 23,
   "id": "13801815-4ecb-4b75-8357-552139e890a5",
   "metadata": {},
   "outputs": [
    {
     "name": "stdout",
     "output_type": "stream",
     "text": [
      "The distribution of color of m&ms bag does matches the expected distribution\n"
     ]
    }
   ],
   "source": [
    "if chi_square_test > critical_value:\n",
    "    print(\"The distribution of color of m&ms bag does matches the expected distribution\")\n",
    "else: \n",
    "    print(\"The distrubtion of color match the expected distribution\")"
   ]
  },
  {
   "cell_type": "code",
   "execution_count": null,
   "id": "68574746-3d10-4a40-bf74-fa63ff001939",
   "metadata": {},
   "outputs": [],
   "source": []
  },
  {
   "cell_type": "markdown",
   "id": "8e1e3fe5-c381-4fbe-8e5b-f10c76487a13",
   "metadata": {},
   "source": [
    "Q3. Use Python to calculate the chi-square statistic and p-value for a contingency table with the following\n",
    "data:"
   ]
  },
  {
   "cell_type": "markdown",
   "id": "7fc9fa42-7016-4a11-8f7f-6a50336de146",
   "metadata": {},
   "source": [
    "\n",
    "           Group A     Group B\n",
    "~ outcome_1    20          15\n",
    "~ outcome_2    10          25\n",
    "~ outcome_3    15          20"
   ]
  },
  {
   "cell_type": "code",
   "execution_count": 10,
   "id": "87066f18-e9a1-485a-882c-098a934cd212",
   "metadata": {},
   "outputs": [
    {
     "name": "stdout",
     "output_type": "stream",
     "text": [
      "Chi-squared statistic: 5.833333333333334\n",
      "P-value: 0.05411376622282158\n",
      "Degrees of freedom: 2\n",
      "Expected frequencies:\n",
      "[[15. 20.]\n",
      " [15. 20.]\n",
      " [15. 20.]]\n"
     ]
    }
   ],
   "source": [
    "from scipy.stats import chi2_contingency\n",
    "\n",
    "# Create the observed contingency table\n",
    "observed = [[20, 15],\n",
    "            [10, 25],\n",
    "            [15, 20]]\n",
    "\n",
    "# Perform the chi-squared test\n",
    "chi2, p_value, dof, expected = chi2_contingency(observed)\n",
    "\n",
    "# Print the results\n",
    "print(\"Chi-squared statistic:\", chi2)\n",
    "print(\"P-value:\", p_value)\n",
    "print(\"Degrees of freedom:\", dof)\n",
    "print(\"Expected frequencies:\")\n",
    "print(expected)"
   ]
  },
  {
   "cell_type": "markdown",
   "id": "314a1da1-c983-4a25-90ba-36b51508f99e",
   "metadata": {},
   "source": [
    "Q4. A study of the prevalence of smoking in a population of 500 individuals found that 60 individuals\n",
    "smoked. Use Python to calculate the 95% confidence interval for the true proportion of individuals in the\n",
    "population who smoke."
   ]
  },
  {
   "cell_type": "code",
   "execution_count": 2,
   "id": "cf7ee3eb-ec56-4876-88ff-f0672727130e",
   "metadata": {},
   "outputs": [
    {
     "name": "stdout",
     "output_type": "stream",
     "text": [
      "95% Confidence Interval: [0.0915, 0.1485]\n"
     ]
    }
   ],
   "source": [
    "import math\n",
    "\n",
    "# Given data\n",
    "sample_size = 500\n",
    "smokers = 60\n",
    "confidence_level = 0.95\n",
    "\n",
    "# Calculate the sample proportion\n",
    "p_hat = smokers / sample_size\n",
    "\n",
    "# Calculate the z-score corresponding to the desired confidence level\n",
    "z = 1.96  # For a 95% confidence level\n",
    "\n",
    "# Calculate the standard error\n",
    "standard_error = math.sqrt((p_hat * (1 - p_hat)) / sample_size)\n",
    "\n",
    "# Calculate the margin of error\n",
    "margin_of_error = z * standard_error\n",
    "\n",
    "# Calculate the lower and upper bounds of the confidence interval\n",
    "lower_bound = p_hat - margin_of_error\n",
    "upper_bound = p_hat + margin_of_error\n",
    "\n",
    "# Display the confidence interval\n",
    "print(f\"95% Confidence Interval: [{lower_bound:.4f}, {upper_bound:.4f}]\")"
   ]
  },
  {
   "cell_type": "markdown",
   "id": "6f06dd21-a634-403e-8c83-b1a5fd2569ea",
   "metadata": {},
   "source": [
    "Q5. Calculate the 90% confidence interval for a sample of data with a mean of 75 and a standard deviation\n",
    "of 12 using Python. Interpret the results."
   ]
  },
  {
   "cell_type": "code",
   "execution_count": 6,
   "id": "a43dafc7-82cb-4357-8f13-f8eb13306e88",
   "metadata": {},
   "outputs": [
    {
     "name": "stdout",
     "output_type": "stream",
     "text": [
      "90% Confidence Interval: [55.2600, 94.7400]\n"
     ]
    }
   ],
   "source": [
    "import math\n",
    "\n",
    "# Given data\n",
    "sample_mean = 75\n",
    "standard_deviation = 12\n",
    "confidence_level = 0.90\n",
    "sample_size = 1  # Since we only have the mean and standard deviation, the sample size is 1\n",
    "\n",
    "# Calculate the z-score corresponding to the desired confidence level\n",
    "z = 1.645  # For a 90% confidence level\n",
    "\n",
    "# Calculate the standard error\n",
    "standard_error = standard_deviation / math.sqrt(sample_size)\n",
    "\n",
    "# Calculate the margin of error\n",
    "margin_of_error = z * standard_error\n",
    "\n",
    "# Calculate the lower and upper bounds of the confidence interval\n",
    "lower_bound = sample_mean - margin_of_error\n",
    "upper_bound = sample_mean + margin_of_error\n",
    "\n",
    "# Display the confidence interval\n",
    "print(f\"90% Confidence Interval: [{lower_bound:.4f}, {upper_bound:.4f}]\")\n",
    "\n",
    "\"\"\"\n",
    "Interpret\n",
    "The 90% confidence interval for the popultion mean based on the given sample is[55.26, 94.74],\n",
    "since the interval has same value for both the lower and upperbounds.\n",
    "\"\"\""
   ]
  },
  {
   "cell_type": "markdown",
   "id": "b59e9a73-28f0-4467-92b4-8baf55b93ecf",
   "metadata": {},
   "source": [
    "Q6. Use Python to plot the chi-square distribution with 10 degrees of freedom. Label the axes and shade the\n",
    "area corresponding to a chi-square statistic of 15."
   ]
  },
  {
   "cell_type": "code",
   "execution_count": 20,
   "id": "fdccc3f0-2d34-4a1c-9513-6f83949844a5",
   "metadata": {},
   "outputs": [],
   "source": [
    "import matplotlib.pyplot as plt\n",
    "from scipy.stats import chi2"
   ]
  },
  {
   "cell_type": "code",
   "execution_count": 14,
   "id": "0078afe6-5e7f-4939-945c-804e725fa688",
   "metadata": {},
   "outputs": [
    {
     "data": {
      "image/png": "[encoded data removed]",
      "text/plain": [
       "<Figure size 640x480 with 1 Axes>"
      ]
     },
     "metadata": {},
     "output_type": "display_data"
    }
   ],
   "source": [
    "# Set the degrees of freedom\n",
    "df = 10\n",
    "\n",
    "# Set the range of chi-square values\n",
    "x = np.linspace(0, 30, 500)\n",
    "\n",
    "# Calculate the chi-square probability density function (PDF)\n",
    "pdf = chi2.pdf(x, df)\n",
    "\n",
    "# Create the plot\n",
    "plt.plot(x, pdf, label='Chi-square PDF (df=10)')\n",
    "plt.fill_between(x, pdf, where=(x >= 15), color='red', alpha=0.5, label='Area for chi-square=15')\n",
    "\n",
    "# Label the axes and add a legend\n",
    "plt.xlabel('Chi-square value')\n",
    "plt.ylabel('Probability Density')\n",
    "plt.legend()\n",
    "\n",
    "# Show the plot\n",
    "plt.show()"
   ]
  },
  {
   "cell_type": "markdown",
   "id": "8987afc0-ed36-423b-8217-99f5d444e94b",
   "metadata": {},
   "source": [
    "Q7. A random sample of 1000 people was asked if they preferred Coke or Pepsi. Of the sample, 520\n",
    "preferred Coke. Calculate a 99% confidence interval for the true proportion of people in the population who\n",
    "prefer Coke."
   ]
  },
  {
   "cell_type": "code",
   "execution_count": 7,
   "id": "355e3c14-a3a1-43b1-bc89-ca5130f1dcba",
   "metadata": {},
   "outputs": [
    {
     "name": "stdout",
     "output_type": "stream",
     "text": [
      "99% Confidence Interval: [0.4793, 0.5607]\n"
     ]
    }
   ],
   "source": [
    "sample_size = 1000\n",
    "preferred_coke = 520\n",
    "confidence_level = 0.99\n",
    "\n",
    "# Calculate the sample proportion\n",
    "p_hat = preferred_coke / sample_size\n",
    "\n",
    "# Calculate the z-score corresponding to the desired confidence level\n",
    "z = 2.576  # For a 99% confidence level\n",
    "\n",
    "# Calculate the standard error\n",
    "standard_error = math.sqrt((p_hat * (1 - p_hat)) / sample_size)\n",
    "\n",
    "# Calculate the margin of error\n",
    "margin_of_error = z * standard_error\n",
    "\n",
    "# Calculate the lower and upper bounds of the confidence interval\n",
    "lower_bound = p_hat - margin_of_error\n",
    "upper_bound = p_hat + margin_of_error\n",
    "\n",
    "# Display the confidence interval\n",
    "print(f\"99% Confidence Interval: [{lower_bound:.4f}, {upper_bound:.4f}]\")"
   ]
  },
  {
   "cell_type": "code",
   "execution_count": null,
   "id": "3d4fcdf6-0af7-442a-94d3-cb2ff9027379",
   "metadata": {},
   "outputs": [],
   "source": [
    "\"\"\"\n",
    "Therfore, the 99% confidence interval for true proportion of people in the population\n",
    "who prefer coke is approximately[0.4793, 0.5607],\n",
    "who preferd coke falls within this interval.\n"
   ]
  },
  {
   "cell_type": "markdown",
   "id": "3c001f33-ed1b-4275-9785-2714de06855a",
   "metadata": {},
   "source": [
    "Q8. A researcher hypothesizes that a coin is biased towards tails. They flip the coin 100 times and observe\n",
    "45 tails. Conduct a chi-square goodness of fit test to determine if the observed frequencies match the\n",
    "expected frequencies of a fair coin. Use a significance level of 0.05."
   ]
  },
  {
   "cell_type": "code",
   "execution_count": 9,
   "id": "6e1e63fa-0762-4840-8b48-e498779e2216",
   "metadata": {},
   "outputs": [
    {
     "name": "stdout",
     "output_type": "stream",
     "text": [
      "Chi-square test statistic: 1.0000\n",
      "Critical chi-square value: 3.8415\n",
      "Result: Fail to reject the null hypothesis. The coin is fair.\n"
     ]
    }
   ],
   "source": [
    "import scipy.stats as stats\n",
    "# Given data\n",
    "observed_tails = 45\n",
    "expected_tails = 50\n",
    "sample_size = 100\n",
    "significance_level = 0.05\n",
    "\n",
    "# Calculate the observed and expected frequencies\n",
    "observed_frequencies = [observed_tails, sample_size - observed_tails]\n",
    "expected_frequencies = [expected_tails, sample_size - expected_tails]\n",
    "\n",
    "# Calculate the chi-square test statistic\n",
    "chi2, p_value = stats.chisquare(observed_frequencies, f_exp=expected_frequencies)\n",
    "\n",
    "# Calculate the critical chi-square value at the desired significance level\n",
    "critical_chi2 = stats.chi2.ppf(1 - significance_level, df=1)\n",
    "\n",
    "# Compare the chi-square test statistic with the critical chi-square value\n",
    "if chi2 > critical_chi2:\n",
    "    result = \"Reject the null hypothesis. The coin is biased towards tails.\"\n",
    "else:\n",
    "    result = \"Fail to reject the null hypothesis. The coin is fair.\"\n",
    "\n",
    "# Display the result\n",
    "print(f\"Chi-square test statistic: {chi2:.4f}\")\n",
    "print(f\"Critical chi-square value: {critical_chi2:.4f}\")\n",
    "print(f\"Result: {result}\")"
   ]
  },
  {
   "cell_type": "markdown",
   "id": "66db88d6-d490-4abc-8e9c-ee352b9ab922",
   "metadata": {},
   "source": [
    "Therefore, based on the chi-square goodness of fit test with a significance level of 0.05, we fail to reject the null hypothesis. This means that there is not enough evidence to conclude that the coin is biased towards tails. The observed frequencies of tails are not significantly different from the expected frequencies for a fair coin."
   ]
  },
  {
   "cell_type": "markdown",
   "id": "fd1cfacb-5c64-44d1-98d0-1b4fa4e12d93",
   "metadata": {},
   "source": [
    "Q9. A study was conducted to determine if there is an association between smoking status (smoker or\n",
    "non-smoker) and lung cancer diagnosis (yes or no). The results are shown in the contingency table below.\n",
    "Conduct a chi-square test for independence to determine if there is a significant association between\n",
    "smoking status and lung cancer diagnosis."
   ]
  },
  {
   "cell_type": "code",
   "execution_count": 23,
   "id": "1cdaf15f-806e-43ea-9630-9e051106a1eb",
   "metadata": {},
   "outputs": [
    {
     "name": "stdout",
     "output_type": "stream",
     "text": [
      "Chi-squared statistic: 12.057347670250895\n",
      "P-value: 0.0005158863863703744\n",
      "Degrees of freedom: 1\n",
      "Expected frequencies:\n",
      "[[ 45. 155.]\n",
      " [ 45. 155.]]\n",
      "3.841458820694124\n"
     ]
    }
   ],
   "source": [
    "observed = np.array([[60, 140],\n",
    "                     [30, 170]])\n",
    "\n",
    "# Perform the chi-squared test\n",
    "chi2, p_value, dof, expected = chi2_contingency(observed)\n",
    "\n",
    "# Print the results\n",
    "print(\"Chi-squared statistic:\", chi2)\n",
    "print(\"P-value:\", p_value)\n",
    "print(\"Degrees of freedom:\", dof)\n",
    "print(\"Expected frequencies:\")\n",
    "print(expected)\n",
    "CI=1-0.05\n",
    "critical_value=stat.chi2.ppf(CI,1)\n",
    "print(critical_value)\n"
   ]
  },
  {
   "cell_type": "code",
   "execution_count": 25,
   "id": "3759052a-736c-40e4-aaf0-63f9d0887d60",
   "metadata": {},
   "outputs": [
    {
     "name": "stdout",
     "output_type": "stream",
     "text": [
      "we reject null hypothesis\n"
     ]
    }
   ],
   "source": [
    "if chi2> critical_value : \n",
    "    print('we reject null hypothesis')\n",
    "else: \n",
    "    print(\"We accept null hypothesis\")"
   ]
  },
  {
   "cell_type": "code",
   "execution_count": null,
   "id": "555e0cfc-116d-4cae-9588-d3298c834e35",
   "metadata": {},
   "outputs": [],
   "source": []
  }
 ],
 "metadata": {
  "kernelspec": {
   "display_name": "Python 3 (ipykernel)",
   "language": "python",
   "name": "python3"
  },
  "language_info": {
   "codemirror_mode": {
    "name": "ipython",
    "version": 3
   },
   "file_extension": ".py",
   "mimetype": "text/x-python",
   "name": "python",
   "nbconvert_exporter": "python",
   "pygments_lexer": "ipython3",
   "version": "3.10.8"
  }
 },
 "nbformat": 4,
 "nbformat_minor": 5
}
