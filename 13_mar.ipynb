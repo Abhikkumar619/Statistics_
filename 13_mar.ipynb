{
 "cells": [
  {
   "cell_type": "markdown",
   "id": "bf5120d6-3c1f-4e28-b6e9-ff85985fea16",
   "metadata": {},
   "source": [
    "Q1. Explain the assumptions required to use ANOVA and provide examples of violations that could impact\n",
    "the validity of the results."
   ]
  },
  {
   "cell_type": "code",
   "execution_count": null,
   "id": "acf381dc-beb7-4bab-9123-69c82b4defb8",
   "metadata": {},
   "outputs": [],
   "source": [
    "\"\"\"\n",
    "The assumption required to use Anova are: \n",
    "1. Normaality of sample mean is normal dustributed.\n",
    "- The distribution of sample mean is normaly distributed. \n",
    "\n",
    "2. Absence of outlier. \n",
    "- Outlying score need to be remove from dataset. \n",
    "\n",
    "3. Homogenity of variance. \n",
    "- Each one of the population has same variance. \n",
    "4 Sample are independent and random.\n",
    "\n",
    "Violations of these assumptions can impact the validity of ANOVA results.\n",
    "Here are some examples of violations and their impact:\n",
    "\n",
    "Violation of independence: If the observations within groups are not independent, \n",
    "it can lead to biased estimates of variability and inflated significance levels.\n",
    "For example, if a study measures the same individuals multiple times and these repeated\n",
    "measurements are treated as independent, it violates the assumption of independence.\n",
    "\n",
    "Violation of normality: If the data within groups do not follow a normal distribution,\n",
    "it can affect the accuracy and reliability of the ANOVA results. Non-normality \n",
    "can lead to incorrect p-values and confidence intervals. However, ANOVA is often\n",
    "robust to mild departures from normality, especially if the sample sizes are large.\n",
    "\n",
    "Violation of homogeneity of variances: When the variances of the groups are not equal, \n",
    "it can affect the validity of the F-test in ANOVA. Unequal variances can lead to \n",
    "inflated or deflated Type I error rates. This violation is known as heteroscedasticity.\n",
    "Robust versions of ANOVA, such as Welch's ANOVA, can be used when the assumption of \n",
    "homogeneity of variances is violated.\n",
    "\"\"\""
   ]
  },
  {
   "cell_type": "markdown",
   "id": "3ad21dd0-f381-42da-a771-bf294f8336a4",
   "metadata": {},
   "source": [
    "Q2. What are the three types of ANOVA, and in what situations would each be used?"
   ]
  },
  {
   "cell_type": "code",
   "execution_count": null,
   "id": "5609711e-5533-48b0-a79a-45c8b1b96d4a",
   "metadata": {},
   "outputs": [],
   "source": [
    "\"\"\"\n",
    "The three types of anova are: \n",
    "1. One way Anova.\n",
    "2. Repeated measure Anova.\n",
    "3. Factorial Anova.\n",
    "\n",
    "1. One_way_Anova: one factor with alleast 2 levels these level are independent.\n",
    "                  is one_way_Anova.\n",
    "2. Repeated_measure_Anova: One factor with at least 2 levels are dependent are Repeated \n",
    "                          measure anova.\n",
    "3. Facotrial_Anova: Two or more factor each of which with atleast 2 levels can be either\n",
    "                   independent and dependent.\n",
    "\"\"\""
   ]
  },
  {
   "cell_type": "markdown",
   "id": "cf7ca5cf-3707-4e2f-9658-6f4a5db939a7",
   "metadata": {},
   "source": [
    "Q3. What is the partitioning of variance in ANOVA, and why is it important to understand this concept?"
   ]
  },
  {
   "cell_type": "code",
   "execution_count": null,
   "id": "89519212-9535-462f-a748-8b45a77cd96b",
   "metadata": {},
   "outputs": [],
   "source": [
    "\"\"\"\n",
    "The partitioning of variance in ANOVA refers to the decomposition of the total variability observed in a dataset\n",
    "into different sources of variation. It breaks down the overall variability into\n",
    "components that can be attributed to different factors or sources, such as treatment \n",
    "groups or experimental conditions. The concept of partitioning variance is important in \n",
    "ANOVA for several reasons:\n",
    "\n",
    "Identifying sources of variation: ANOVA helps to identify and quantify the contribution \n",
    "of different factors or sources of variation to the overall variability in the data.\n",
    "This information allows researchers to understand which factors have a significant\n",
    "effect on the outcome variable and which do not.\n",
    "\n",
    "Assessing the significance of factors: By partitioning the variance, ANOVA provides a \n",
    "way to test the significance of different factors or sources of variation. It helps \n",
    "determine whether the observed differences between groups are statistically significant\n",
    "or could be due to random chance."
   ]
  },
  {
   "cell_type": "markdown",
   "id": "74b37452-f7bd-4d15-8d3a-c5dfc591ae58",
   "metadata": {},
   "source": [
    "How would you calculate the total sum of squares (SST), explained sum of squares (SSE),\n",
    "and residual\n",
    "sum of squares (SSR) in a one-way ANOVA using Python?"
   ]
  },
  {
   "cell_type": "code",
   "execution_count": 1,
   "id": "415bb1ef-619e-42a9-ac87-1db1249504b0",
   "metadata": {},
   "outputs": [
    {
     "name": "stdout",
     "output_type": "stream",
     "text": [
      "SST: 173.33333333333334\n",
      "SSE: 3.333333333333333\n",
      "SSR: 170.0\n",
      "F-value: 0.11764705882352937\n",
      "p-value: 0.8900225182757423\n"
     ]
    }
   ],
   "source": [
    "import scipy.stats as stats\n",
    "\n",
    "# Example data for three groups\n",
    "group1 = [2, 4, 6, 8, 10]\n",
    "group2 = [3, 5, 7, 9, 11]\n",
    "group3 = [1, 4, 7, 10, 13]\n",
    "\n",
    "# Combine the data into a single list\n",
    "data = group1 + group2 + group3\n",
    "\n",
    "# Group labels\n",
    "groups = ['Group 1'] * len(group1) + ['Group 2'] * len(group2) + ['Group 3'] * len(group3)\n",
    "\n",
    "# Perform one-way ANOVA\n",
    "f_value, p_value = stats.f_oneway(group1, group2, group3)\n",
    "\n",
    "# Calculate total sum of squares (SST)\n",
    "mean_total = sum(data) / len(data)\n",
    "sst = sum((x - mean_total) ** 2 for x in data)\n",
    "\n",
    "# Calculate explained sum of squares (SSE)\n",
    "group_means = {group: sum(data[i] for i in range(len(data)) if groups[i] == group) / groups.count(group) for group in set(groups)}\n",
    "sse = sum(groups.count(group) * (group_means[group] - mean_total) ** 2 for group in set(groups))\n",
    "\n",
    "# Calculate residual sum of squares (SSR)\n",
    "ssr = sst - sse\n",
    "\n",
    "print(\"SST:\", sst)\n",
    "print(\"SSE:\", sse)\n",
    "print(\"SSR:\", ssr)\n",
    "print(\"F-value:\", f_value)\n",
    "print(\"p-value:\", p_value)\n"
   ]
  },
  {
   "cell_type": "markdown",
   "id": "b72c59fa-eed7-4c2b-9891-f011d998723b",
   "metadata": {},
   "source": [
    "Q5. In a two-way ANOVA, how would you calculate the main effects and interaction effects using Python?"
   ]
  },
  {
   "cell_type": "code",
   "execution_count": 2,
   "id": "69883c86-19bb-4e6a-a98d-907e09333365",
   "metadata": {},
   "outputs": [
    {
     "name": "stdout",
     "output_type": "stream",
     "text": [
      "Main effect for Group1: 1164.4736842105299\n",
      "Main effect for Group2: 330.29866387214787\n",
      "Interaction effect: 2.691354313439244e-26\n"
     ]
    }
   ],
   "source": [
    "import pandas as pd\n",
    "import statsmodels.api as sm\n",
    "from statsmodels.formula.api import ols\n",
    "\n",
    "# Example data\n",
    "data = pd.DataFrame({'Group1': [10, 15, 20, 25, 30],\n",
    "                     'Group2': [5, 10, 15, 20, 25],\n",
    "                     'Response': [45, 55, 65, 75, 85]})\n",
    "\n",
    "# Fit the two-way ANOVA model\n",
    "model = ols('Response ~ Group1 + Group2 + Group1:Group2', data=data).fit()\n",
    "anova_table = sm.stats.anova_lm(model, typ=2)\n",
    "\n",
    "# Extract main effects and interaction effects\n",
    "main_effect_group1 = anova_table.loc['Group1', 'sum_sq']\n",
    "main_effect_group2 = anova_table.loc['Group2', 'sum_sq']\n",
    "interaction_effect = anova_table.loc['Group1:Group2', 'sum_sq']\n",
    "\n",
    "print(\"Main effect for Group1:\", main_effect_group1)\n",
    "print(\"Main effect for Group2:\", main_effect_group2)\n",
    "print(\"Interaction effect:\", interaction_effect)\n"
   ]
  },
  {
   "cell_type": "markdown",
   "id": "3339692c-ffc8-44b9-82f3-ce65e331f835",
   "metadata": {},
   "source": [
    "Q6. Suppose you conducted a one-way ANOVA and obtained an F-statistic of 5.23 and a p-value of 0.02.\n",
    "What can you conclude about the differences between the groups, and how would you interpret these\n",
    "results?"
   ]
  },
  {
   "cell_type": "code",
   "execution_count": null,
   "id": "b95e89eb-4a21-4c29-84d3-9c06fb55b5bc",
   "metadata": {},
   "outputs": [],
   "source": [
    "\"\"\"\n",
    "Based on the provided information, you conducted a one-way ANOVA and obtained an F-statistic of 5.23 and a p-value of 0.02.\n",
    "\n",
    "The F-statistic in an ANOVA test measures the ratio of the between-group variability to the within-group variability. \n",
    "In this case, the F-statistic of 5.23 indicates that the between-group variability is larger than the within-group\n",
    "variability.\n",
    "\n",
    "The p-value of 0.02 suggests that there is a statistically significant difference between the groups. Typically,\n",
    "a p-value threshold of 0.05 is used to determine statistical significance, meaning that if the p-value is below\n",
    "this threshold, the differences between the groups are considered statistically significant.\n",
    "\n",
    "Therefore, based on these results, you can conclude that there are significant differences between the groups in the study.\n",
    "However, it's important to note that the ANOVA test itself does not identify which specific groups are different from each\n",
    "other. To determine which groups are significantly different, additional post-hoc tests (e.g., Tukey's HSD, Bonferroni, or\n",
    "pairwise t-tests) would be necessary.\n",
    "\n",
    "In summary, the F-statistic of 5.23 and the p-value of 0.02 indicate that there are significant differences between \n",
    "the groups in the study, suggesting that at least one group is significantly different from the others.\n",
    "\"\"\""
   ]
  },
  {
   "cell_type": "markdown",
   "id": "32822860-a00a-454c-bc11-6fc4e5f07df4",
   "metadata": {},
   "source": [
    "Q7. In a repeated measures ANOVA, how would you handle missing data, and what are the potential\n",
    "consequences of using different methods to handle missing data?"
   ]
  },
  {
   "cell_type": "code",
   "execution_count": null,
   "id": "d34e577f-5a1f-445b-9b01-69ff21c95b17",
   "metadata": {},
   "outputs": [],
   "source": [
    "\"\"\"\n",
    "Handling missing data in a repeated measures ANOVA is an important consideration to ensure the validity of the analysis.\n",
    "Here are some common methods for dealing with missing data in a repeated measures ANOVA and their potential consequences:\n",
    "\n",
    "Complete Case Analysis (Listwise Deletion): This method involves excluding participants with any missing data from the \n",
    "analysis. It is straightforward to implement but can lead to a loss of statistical power and potential bias if the \n",
    "missing data are not missing completely at random (MCAR). Additionally, it can introduce bias\n",
    "if the missingness is related to the outcome variable or other variables in the analysis.\n",
    "\n",
    "Pairwise Deletion (Available Case Analysis): This approach includes all available data for each comparison, excluding \n",
    "only the cases with missing data for specific time points or conditions. It retains more data than complete case analysis\n",
    "and can provide valid estimates if the missingness is random. However, it may produce inefficient or biased estimates if \n",
    "the missingness is related to the outcome or other variables."
   ]
  },
  {
   "cell_type": "markdown",
   "id": "d8f7ad77-cffa-4256-b34b-743249d730b7",
   "metadata": {},
   "source": [
    "Q8. What are some common post-hoc tests used after ANOVA, and when would you use each one? Provide\n",
    "an example of a situation where a post-hoc test might be necessary."
   ]
  },
  {
   "cell_type": "code",
   "execution_count": null,
   "id": "c6486b94-e7dd-43eb-903c-fd1963d88d04",
   "metadata": {},
   "outputs": [],
   "source": [
    "\"\"\"\n",
    "\n",
    "After conducting an analysis of variance (ANOVA) and finding a significant overall effect, post-hoc tests can be used to\n",
    "determine which specific groups\n",
    "or conditions differ significantly from each other. There are several commonly used post-hoc tests, including:\n",
    "\n",
    "Tukey's Honestly Significant Difference (HSD): Tukey's HSD test is a conservative post-hoc test that compares all possible\n",
    "pairwise differences between group means. It controls for the family-wise error rate, making it suitable when you have\n",
    "multiple pairwise comparisons to make.\n",
    "\n",
    "Bonferroni correction: The Bonferroni correction is a conservative adjustment method that divides the desired alpha level\n",
    "by the number of comparisons. Each individual comparison is then assessed against the adjusted alpha level. It is useful\n",
    "when you have a priori knowledge about specific comparisons to be made.\n",
    "\n",
    "Scheffe's test: Scheffe's test is a conservative post-hoc test that takes into account all possible linear combinations of \n",
    "means. It is useful when you have specific contrasts or comparisons in mind that are not covered by other post-hoc tests.\n",
    "\n",
    "Fisher's Least Significant Difference (LSD): Fisher's LSD test is a less conservative post-hoc test that compares \n",
    "individual means to identify significant pairwise differences. It does not control for the family-wise error rate,\n",
    "so it may be more likely to produce Type I errors. It is appropriate when you have a small number of planned comparisons \n",
    "or when the assumption of homogeneity of variances is violated.\n",
    "\n",
    "Dunnett's test: Dunnett's test is used when you have one control group and multiple treatment groups. It compares each \n",
    "treatment group to the control group to determine if there are significant differences."
   ]
  },
  {
   "cell_type": "markdown",
   "id": "f592a3c0-847b-4ac9-905d-23415bb37348",
   "metadata": {},
   "source": [
    "Q9. A researcher wants to compare the mean weight loss of three diets: A, B, and C. They collect data from\n",
    "50 participants who were randomly assigned to one of the diets. Conduct a one-way ANOVA using Python\n",
    "to determine if there are any significant differences between the mean weight loss of the three diets.\n",
    "Report the F-statistic and p-value, and interpret the results."
   ]
  },
  {
   "cell_type": "code",
   "execution_count": 6,
   "id": "74abbffd-1e29-4ac3-a844-75f623ea7edb",
   "metadata": {},
   "outputs": [
    {
     "name": "stdout",
     "output_type": "stream",
     "text": [
      "One-Way ANOVA Results:\n",
      "F-statistic: 58.30031695721079\n",
      "p-value: 1.8503594369436163e-19\n"
     ]
    }
   ],
   "source": [
    "import numpy as np\n",
    "import scipy.stats as stats\n",
    "\n",
    "# Example data\n",
    "diet_A = [2, 3, 4, 3, 5, 2, 1, 3, 4, 2, 3, 2, 1, 3, 4, 3, 5, 2, 3, 2,\n",
    "          1, 3, 4, 3, 5, 2, 3, 2, 1, 3, 4, 3, 5, 2, 3, 2, 1, 3, 4, 3,\n",
    "          5, 2, 3, 2, 1, 3, 4, 3, 5, 2, 3]\n",
    "diet_B = [3, 4, 5, 3, 4, 2, 4, 5, 3, 4, 5, 3, 4, 2, 4, 5, 3, 4, 5, 3,\n",
    "          4, 2, 4, 5, 3, 4, 5, 3, 4, 2, 4, 5, 3, 4, 5, 3, 4, 2, 4, 5, 3,\n",
    "          4, 5, 3, 4, 2, 4, 5, 3, 4, 5]\n",
    "diet_C = [4, 5, 6, 4, 6, 5, 4, 5, 6, 4, 6, 5, 4, 5, 6, 4, 6, 5, 4, 5,\n",
    "          6, 4, 6, 5, 4, 5, 6, 4, 6, 5, 4, 5, 6, 4, 6, 5, 4, 5, 6, 4, 6,\n",
    "          5, 4, 5, 6, 4, 6, 5, 4, 5, 6]\n",
    "\n",
    "# Perform one-way ANOVA\n",
    "f_statistic, p_value = stats.f_oneway(diet_A, diet_B, diet_C)\n",
    "\n",
    "print(\"One-Way ANOVA Results:\")\n",
    "print(\"F-statistic:\", f_statistic)\n",
    "print(\"p-value:\", p_value)\n"
   ]
  },
  {
   "cell_type": "markdown",
   "id": "a5f95981-092e-41ce-9ee9-ff0893f96ee1",
   "metadata": {},
   "source": [
    "Q10. A company wants to know if there are any significant differences in the average time it takes to\n",
    "complete a task using three different software programs: Program A, Program B, and Program C. They\n",
    "randomly assign 30 employees to one of the programs and record the time it takes each employee to\n",
    "complete the task. Conduct a two-way ANOVA using Python to determine if there are any main effects or\n",
    "interaction effects between the software programs and employee experience level (novice vs.\n",
    "experienced). Report the F-statistics and p-values, and interpret the results."
   ]
  },
  {
   "cell_type": "code",
   "execution_count": 5,
   "id": "e4b0b564-eb21-4e9b-8435-bf68fff6aa52",
   "metadata": {},
   "outputs": [
    {
     "name": "stdout",
     "output_type": "stream",
     "text": [
      "ANOVA Results:\n",
      "                        sum_sq    df         F    PR(>F)\n",
      "Program               0.466667   2.0  0.039548  0.961286\n",
      "Experience            0.033333   1.0  0.005650  0.940707\n",
      "Program:Experience    0.866667   2.0  0.073446  0.929394\n",
      "Residual            141.600000  24.0       NaN       NaN\n"
     ]
    }
   ],
   "source": [
    "\n",
    "import pandas as pd\n",
    "import statsmodels.api as sm\n",
    "from statsmodels.formula.api import ols\n",
    "\n",
    "# Example data\n",
    "data = pd.DataFrame({'Program': ['A', 'B', 'C'] * 10,\n",
    "                     'Experience': ['Novice'] * 15 + ['Experienced'] * 15,\n",
    "                     'Time': [10, 12, 11, 13, 12, 14, 15, 13, 14, 16,\n",
    "                              17, 15, 13, 12, 14, 16, 18, 17, 15, 14,\n",
    "                              9, 11, 10, 12, 11, 13, 14, 12, 13, 15]})\n",
    "\n",
    "# Perform two-way ANOVA\n",
    "model = ols('Time ~ Program + Experience + Program:Experience', data=data).fit()\n",
    "anova_table = sm.stats.anova_lm(model, typ=2)\n",
    "\n",
    "print(\"ANOVA Results:\")\n",
    "print(anova_table)\n"
   ]
  },
  {
   "cell_type": "markdown",
   "id": "f3fc8128-ef01-48ca-9b85-b020ea23511d",
   "metadata": {},
   "source": [
    "Q11. An educational researcher is interested in whether a new teaching method improves student test\n",
    "scores. They randomly assign 100 students to either the control group (traditional teaching method) or the\n",
    "experimental group (new teaching method) and administer a test at the end of the semester. Conduct a\n",
    "two-sample t-test using Python to determine if there are any significant differences in test scores\n",
    "between the two groups. If the results are significant, follow up with a post-hoc test to determine which\n",
    "group(s) differ significantly from each other."
   ]
  },
  {
   "cell_type": "code",
   "execution_count": 4,
   "id": "d15dbcad-f957-433d-a1e9-c4f6c15ed3fa",
   "metadata": {},
   "outputs": [
    {
     "name": "stdout",
     "output_type": "stream",
     "text": [
      "Two-Sample T-Test Results:\n",
      "t-statistic: -3.3039731921375655\n",
      "p-value: 0.003946540018745265\n"
     ]
    },
    {
     "ename": "NameError",
     "evalue": "name 'statsmodels' is not defined",
     "output_type": "error",
     "traceback": [
      "\u001b[0;31m---------------------------------------------------------------------------\u001b[0m",
      "\u001b[0;31mNameError\u001b[0m                                 Traceback (most recent call last)",
      "Cell \u001b[0;32mIn[4], line 18\u001b[0m\n\u001b[1;32m     16\u001b[0m \u001b[38;5;28;01mif\u001b[39;00m p_value \u001b[38;5;241m<\u001b[39m \u001b[38;5;241m0.05\u001b[39m:\n\u001b[1;32m     17\u001b[0m     posthoc_pvalues \u001b[38;5;241m=\u001b[39m stats\u001b[38;5;241m.\u001b[39mttest_ind(control_group, experimental_group, equal_var\u001b[38;5;241m=\u001b[39m\u001b[38;5;28;01mFalse\u001b[39;00m)\u001b[38;5;241m.\u001b[39mpvalue\n\u001b[0;32m---> 18\u001b[0m     posthoc_corrected \u001b[38;5;241m=\u001b[39m \u001b[43mstatsmodels\u001b[49m\u001b[38;5;241m.\u001b[39msandbox\u001b[38;5;241m.\u001b[39mstats\u001b[38;5;241m.\u001b[39mmulticomp\u001b[38;5;241m.\u001b[39mmultipletests(posthoc_pvalues, method\u001b[38;5;241m=\u001b[39m\u001b[38;5;124m'\u001b[39m\u001b[38;5;124mholm\u001b[39m\u001b[38;5;124m'\u001b[39m)\n\u001b[1;32m     19\u001b[0m     significant_pairs \u001b[38;5;241m=\u001b[39m [(i, j) \u001b[38;5;28;01mfor\u001b[39;00m i \u001b[38;5;129;01min\u001b[39;00m \u001b[38;5;28mrange\u001b[39m(\u001b[38;5;28mlen\u001b[39m(posthoc_corrected[\u001b[38;5;241m0\u001b[39m])) \u001b[38;5;28;01mfor\u001b[39;00m j \u001b[38;5;129;01min\u001b[39;00m \u001b[38;5;28mrange\u001b[39m(i\u001b[38;5;241m+\u001b[39m\u001b[38;5;241m1\u001b[39m, \u001b[38;5;28mlen\u001b[39m(posthoc_corrected[\u001b[38;5;241m0\u001b[39m])) \u001b[38;5;28;01mif\u001b[39;00m posthoc_corrected[\u001b[38;5;241m1\u001b[39m][i][j]]\n\u001b[1;32m     20\u001b[0m     \u001b[38;5;28mprint\u001b[39m(\u001b[38;5;124m\"\u001b[39m\u001b[38;5;130;01m\\n\u001b[39;00m\u001b[38;5;124mPost-Hoc Test (Significant Differences):\u001b[39m\u001b[38;5;124m\"\u001b[39m)\n",
      "\u001b[0;31mNameError\u001b[0m: name 'statsmodels' is not defined"
     ]
    }
   ],
   "source": [
    "import numpy as np\n",
    "import scipy.stats as stats\n",
    "\n",
    "# Example data\n",
    "control_group = [80, 85, 90, 75, 85, 78, 92, 88, 82, 80]\n",
    "experimental_group = [88, 92, 95, 90, 92, 86, 85, 92, 94, 88]\n",
    "\n",
    "# Perform two-sample t-test\n",
    "t_statistic, p_value = stats.ttest_ind(control_group, experimental_group)\n",
    "\n",
    "print(\"Two-Sample T-Test Results:\")\n",
    "print(\"t-statistic:\", t_statistic)\n",
    "print(\"p-value:\", p_value)\n",
    "\n",
    "# Perform post-hoc test (if significant result)\n",
    "if p_value < 0.05:\n",
    "    posthoc_pvalues = stats.ttest_ind(control_group, experimental_group, equal_var=False).pvalue\n",
    "    posthoc_corrected = statsmodels.sandbox.stats.multicomp.multipletests(posthoc_pvalues, method='holm')\n",
    "    significant_pairs = [(i, j) for i in range(len(posthoc_corrected[0])) for j in range(i+1, len(posthoc_corrected[0])) if posthoc_corrected[1][i][j]]\n",
    "    print(\"\\nPost-Hoc Test (Significant Differences):\")\n",
    "    for pair in significant_pairs:\n",
    "        print(\"Group\", pair[0]+1, \"vs Group\", pair[1]+1)\n"
   ]
  },
  {
   "cell_type": "markdown",
   "id": "054a883f-28eb-49f3-930f-4c5d96971912",
   "metadata": {},
   "source": [
    "Q12. A researcher wants to know if there are any significant differences in the average daily sales of three\n",
    "retail stores: Store A, Store B, and Store C. They randomly select 30 days and record the sales for each store\n",
    "on those days. Conduct a repeated measures ANOVA using Python to determine if there are any\n",
    "\n",
    "significant differences in sales between the three stores. If the results are significant, follow up with a post-\n",
    "hoc test to determine which store(s) differ significantly from each other."
   ]
  },
  {
   "cell_type": "code",
   "execution_count": 3,
   "id": "22761e05-046e-4bb6-8c4f-fbd552c21074",
   "metadata": {},
   "outputs": [
    {
     "name": "stdout",
     "output_type": "stream",
     "text": [
      "ANOVA Results:\n",
      "          sum_sq    df         F    PR(>F)\n",
      "Store      245.0   2.0  0.685492  0.512397\n",
      "Residual  4825.0  27.0       NaN       NaN\n",
      "\n",
      "Post-Hoc Test (Tukey's HSD):\n",
      " Multiple Comparison of Means - Tukey HSD, FWER=0.05 \n",
      "=====================================================\n",
      "group1 group2 meandiff p-adj   lower    upper  reject\n",
      "-----------------------------------------------------\n",
      "     A      B      3.5  0.829 -11.3228 18.3228  False\n",
      "     A      C      7.0 0.4803  -7.8228 21.8228  False\n",
      "     B      C      3.5  0.829 -11.3228 18.3228  False\n",
      "-----------------------------------------------------\n"
     ]
    }
   ],
   "source": [
    "import pandas as pd\n",
    "import statsmodels.api as sm\n",
    "from statsmodels.formula.api import ols\n",
    "from statsmodels.stats.multicomp import pairwise_tukeyhsd\n",
    "\n",
    "# Example data\n",
    "data = pd.DataFrame({'Day': range(1, 31),\n",
    "                     'Store': ['A', 'B', 'C'] * 10,\n",
    "                     'Sales': [50, 55, 60, 45, 55, 65, 55, 60, 70, 65,\n",
    "                               70, 75, 80, 75, 85, 80, 85, 90, 80, 85,\n",
    "                               55, 60, 65, 70, 75, 70, 80, 85, 90, 95]})\n",
    "\n",
    "# Perform repeated measures ANOVA\n",
    "model = ols('Sales ~ Store', data=data).fit()\n",
    "anova_table = sm.stats.anova_lm(model, typ=2)\n",
    "\n",
    "print(\"ANOVA Results:\")\n",
    "print(anova_table)\n",
    "\n",
    "# Perform post-hoc test (Tukey's HSD)\n",
    "posthoc = pairwise_tukeyhsd(data['Sales'], data['Store'])\n",
    "print(\"\\nPost-Hoc Test (Tukey's HSD):\")\n",
    "print(posthoc)\n"
   ]
  },
  {
   "cell_type": "code",
   "execution_count": null,
   "id": "9680a1e8-73f5-4a7b-b3a5-915245a1752a",
   "metadata": {},
   "outputs": [],
   "source": []
  }
 ],
 "metadata": {
  "kernelspec": {
   "display_name": "Python 3 (ipykernel)",
   "language": "python",
   "name": "python3"
  },
  "language_info": {
   "codemirror_mode": {
    "name": "ipython",
    "version": 3
   },
   "file_extension": ".py",
   "mimetype": "text/x-python",
   "name": "python",
   "nbconvert_exporter": "python",
   "pygments_lexer": "ipython3",
   "version": "3.10.8"
  }
 },
 "nbformat": 4,
 "nbformat_minor": 5
}
